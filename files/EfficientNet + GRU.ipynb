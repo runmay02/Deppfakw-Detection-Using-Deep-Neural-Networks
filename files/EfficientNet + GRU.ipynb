{
 "cells": [
  {
   "cell_type": "code",
   "execution_count": 11,
   "id": "8242b6af-346e-415e-b7df-bee03eb8f116",
   "metadata": {},
   "outputs": [
    {
     "name": "stderr",
     "output_type": "stream",
     "text": [
      "C:\\Enviroment\\anaconda3\\Lib\\site-packages\\torchvision\\models\\_utils.py:208: UserWarning: The parameter 'pretrained' is deprecated since 0.13 and may be removed in the future, please use 'weights' instead.\n",
      "  warnings.warn(\n",
      "C:\\Enviroment\\anaconda3\\Lib\\site-packages\\torchvision\\models\\_utils.py:223: UserWarning: Arguments other than a weight enum or `None` for 'weights' are deprecated since 0.13 and may be removed in the future. The current behavior is equivalent to passing `weights=EfficientNet_B0_Weights.IMAGENET1K_V1`. You can also use `weights=EfficientNet_B0_Weights.DEFAULT` to get the most up-to-date weights.\n",
      "  warnings.warn(msg)\n",
      "Downloading: \"https://download.pytorch.org/models/efficientnet_b0_rwightman-7f5810bc.pth\" to C:\\Users\\Runmay Shirsat/.cache\\torch\\hub\\checkpoints\\efficientnet_b0_rwightman-7f5810bc.pth\n",
      "100%|██████████| 20.5M/20.5M [00:06<00:00, 3.18MB/s]\n",
      "Epoch 1: 100%|██████████| 63/63 [06:27<00:00,  6.15s/it]\n"
     ]
    },
    {
     "name": "stdout",
     "output_type": "stream",
     "text": [
      "Epoch 1/5, Loss: 0.6015, Accuracy: 0.6821\n"
     ]
    },
    {
     "name": "stderr",
     "output_type": "stream",
     "text": [
      "Epoch 2: 100%|██████████| 63/63 [06:06<00:00,  5.81s/it]\n"
     ]
    },
    {
     "name": "stdout",
     "output_type": "stream",
     "text": [
      "Epoch 2/5, Loss: 0.3820, Accuracy: 0.8410\n"
     ]
    },
    {
     "name": "stderr",
     "output_type": "stream",
     "text": [
      "Epoch 3: 100%|██████████| 63/63 [06:13<00:00,  5.93s/it]\n"
     ]
    },
    {
     "name": "stdout",
     "output_type": "stream",
     "text": [
      "Epoch 3/5, Loss: 0.3160, Accuracy: 0.8692\n"
     ]
    },
    {
     "name": "stderr",
     "output_type": "stream",
     "text": [
      "Epoch 4: 100%|██████████| 63/63 [05:57<00:00,  5.68s/it]\n"
     ]
    },
    {
     "name": "stdout",
     "output_type": "stream",
     "text": [
      "Epoch 4/5, Loss: 0.1779, Accuracy: 0.9376\n"
     ]
    },
    {
     "name": "stderr",
     "output_type": "stream",
     "text": [
      "Epoch 5: 100%|██████████| 63/63 [05:56<00:00,  5.66s/it]\n"
     ]
    },
    {
     "name": "stdout",
     "output_type": "stream",
     "text": [
      "Epoch 5/5, Loss: 0.1629, Accuracy: 0.9416\n"
     ]
    },
    {
     "name": "stderr",
     "output_type": "stream",
     "text": [
      "Validation: 100%|██████████| 16/16 [00:22<00:00,  1.42s/it]"
     ]
    },
    {
     "name": "stdout",
     "output_type": "stream",
     "text": [
      "Classification Report:\n",
      "              precision    recall  f1-score   support\n",
      "\n",
      "    original       0.89      0.81      0.85        59\n",
      " manipulated       0.84      0.91      0.87        65\n",
      "\n",
      "    accuracy                           0.86       124\n",
      "   macro avg       0.87      0.86      0.86       124\n",
      "weighted avg       0.86      0.86      0.86       124\n",
      "\n"
     ]
    },
    {
     "name": "stderr",
     "output_type": "stream",
     "text": [
      "\n"
     ]
    }
   ],
   "source": [
    "import os\n",
    "import random\n",
    "import torch\n",
    "from torch import nn\n",
    "from torch.utils.data import Dataset, DataLoader, random_split\n",
    "from torchvision import transforms, models\n",
    "from PIL import Image\n",
    "from tqdm import tqdm\n",
    "from sklearn.metrics import accuracy_score, classification_report\n",
    "\n",
    "# Define Dataset Class\n",
    "class VideoFrameDataset(Dataset):\n",
    "    def __init__(self, data_dir, transform=None, sequence_length=10):\n",
    "        \"\"\"\n",
    "        Args:\n",
    "            data_dir (str): Directory containing 'original' and 'manipulated' subdirectories.\n",
    "            transform (callable, optional): Transform to be applied on frames.\n",
    "            sequence_length (int): Number of frames per video sequence.\n",
    "        \"\"\"\n",
    "        self.data_dir = data_dir\n",
    "        self.transform = transform\n",
    "        self.sequence_length = sequence_length\n",
    "        self.classes = {\"original\": 0, \"manipulated\": 1}\n",
    "        self.data = []\n",
    "\n",
    "        for cls, label in self.classes.items():\n",
    "            cls_path = os.path.join(data_dir, cls)\n",
    "            videos = os.listdir(cls_path)\n",
    "            for video in videos:\n",
    "                video_path = os.path.join(cls_path, video)\n",
    "                frames = sorted(os.listdir(video_path))\n",
    "                if len(frames) >= sequence_length:\n",
    "                    self.data.append((video_path, label, frames))\n",
    "\n",
    "    def __len__(self):\n",
    "        return len(self.data)\n",
    "\n",
    "    def __getitem__(self, idx):\n",
    "        video_path, label, frames = self.data[idx]\n",
    "        sequence = []\n",
    "\n",
    "        # Select a fixed number of frames\n",
    "        selected_frames = frames[:self.sequence_length]\n",
    "\n",
    "        for frame in selected_frames:\n",
    "            frame_path = os.path.join(video_path, frame)\n",
    "            image = Image.open(frame_path).convert(\"RGB\")\n",
    "            if self.transform:\n",
    "                image = self.transform(image)\n",
    "            sequence.append(image)\n",
    "\n",
    "        sequence = torch.stack(sequence)\n",
    "        return sequence, label\n",
    "\n",
    "# Data Loading and Splitting\n",
    "def get_data_loaders(data_dir, sequence_length=10, batch_size=8, val_split=0.2):\n",
    "    transform = transforms.Compose([\n",
    "        transforms.Resize((224, 224)),\n",
    "        transforms.ToTensor(),\n",
    "        transforms.Normalize(mean=[0.485, 0.456, 0.406], std=[0.229, 0.224, 0.225])\n",
    "    ])\n",
    "\n",
    "    dataset = VideoFrameDataset(data_dir=data_dir, transform=transform, sequence_length=sequence_length)\n",
    "\n",
    "    val_size = int(len(dataset) * val_split)\n",
    "    train_size = len(dataset) - val_size\n",
    "    train_dataset, val_dataset = random_split(dataset, [train_size, val_size])\n",
    "\n",
    "    train_loader = DataLoader(train_dataset, batch_size=batch_size, shuffle=True)\n",
    "    val_loader = DataLoader(val_dataset, batch_size=batch_size, shuffle=False)\n",
    "\n",
    "    return train_loader, val_loader\n",
    "\n",
    "# Model Definition\n",
    "class EfficientNetGRU(nn.Module):\n",
    "    def __init__(self, sequence_length=10, num_classes=2):\n",
    "        super(EfficientNetGRU, self).__init__()\n",
    "        self.sequence_length = sequence_length\n",
    "\n",
    "        # EfficientNet Backbone\n",
    "        self.efficientnet = models.efficientnet_b0(pretrained=True)\n",
    "        self.efficientnet_features = nn.Sequential(\n",
    "            *list(self.efficientnet.children())[:-2]\n",
    "        )\n",
    "        feature_size = self.efficientnet.classifier[1].in_features\n",
    "\n",
    "        # GRU Layer\n",
    "        self.gru = nn.GRU(feature_size, hidden_size=128, num_layers=2, batch_first=True, bidirectional=True)\n",
    "\n",
    "        # Fully Connected Layer\n",
    "        self.fc = nn.Linear(128 * 2, num_classes)\n",
    "\n",
    "    def forward(self, x):\n",
    "        batch_size, seq_len, c, h, w = x.size()\n",
    "        assert seq_len == self.sequence_length, \"Sequence length mismatch!\"\n",
    "\n",
    "        # Extract features frame-by-frame\n",
    "        features = []\n",
    "        for i in range(seq_len):\n",
    "            frame_features = self.efficientnet_features(x[:, i])\n",
    "            frame_features = frame_features.mean([2, 3])  # Global average pooling\n",
    "            features.append(frame_features)\n",
    "\n",
    "        features = torch.stack(features, dim=1)\n",
    "\n",
    "        # GRU processing\n",
    "        _, hidden = self.gru(features)\n",
    "        hidden = torch.cat([hidden[-2], hidden[-1]], dim=1)\n",
    "\n",
    "        # Classification\n",
    "        output = self.fc(hidden)\n",
    "        return output\n",
    "\n",
    "# Training Loop\n",
    "def train_model(model, train_loader, criterion, optimizer, num_epochs, device):\n",
    "    model.to(device)\n",
    "    for epoch in range(num_epochs):\n",
    "        model.train()\n",
    "        running_loss = 0.0\n",
    "        y_true, y_pred = [], []\n",
    "\n",
    "        for sequences, labels in tqdm(train_loader, desc=f\"Epoch {epoch + 1}\"):\n",
    "            sequences, labels = sequences.to(device), labels.to(device)\n",
    "\n",
    "            optimizer.zero_grad()\n",
    "            outputs = model(sequences)\n",
    "            loss = criterion(outputs, labels)\n",
    "            loss.backward()\n",
    "            optimizer.step()\n",
    "\n",
    "            running_loss += loss.item()\n",
    "            y_true.extend(labels.cpu().numpy())\n",
    "            y_pred.extend(outputs.argmax(dim=1).cpu().numpy())\n",
    "\n",
    "        train_acc = accuracy_score(y_true, y_pred)\n",
    "        print(f\"Epoch {epoch + 1}/{num_epochs}, Loss: {running_loss / len(train_loader):.4f}, Accuracy: {train_acc:.4f}\")\n",
    "\n",
    "# Evaluation Loop\n",
    "def evaluate_model(model, val_loader, device):\n",
    "    model.eval()\n",
    "    y_true, y_pred = [], []\n",
    "\n",
    "    with torch.no_grad():\n",
    "        for sequences, labels in tqdm(val_loader, desc=\"Validation\"):\n",
    "            sequences, labels = sequences.to(device), labels.to(device)\n",
    "            outputs = model(sequences)\n",
    "\n",
    "            y_true.extend(labels.cpu().numpy())\n",
    "            y_pred.extend(outputs.argmax(dim=1).cpu().numpy())\n",
    "\n",
    "    print(\"Classification Report:\")\n",
    "    print(classification_report(y_true, y_pred, target_names=[\"original\", \"manipulated\"]))\n",
    "\n",
    "# Main Script\n",
    "if __name__ == \"__main__\":\n",
    "    # Hyperparameters\n",
    "    sequence_length = 10\n",
    "    batch_size = 8\n",
    "    num_epochs = 5\n",
    "    learning_rate = 1e-4\n",
    "    val_split = 0.2\n",
    "\n",
    "    # Dataset directory (contains 'original' and 'manipulated' subfolders)\n",
    "    data_dir = \"cropped_faces_big\"\n",
    "\n",
    "    # Device Configuration\n",
    "    device = torch.device(\"cuda\" if torch.cuda.is_available() else \"cpu\")\n",
    "\n",
    "    # Get Data Loaders\n",
    "    train_loader, val_loader = get_data_loaders(data_dir, sequence_length=sequence_length, batch_size=batch_size, val_split=val_split)\n",
    "\n",
    "    # Initialize Model, Criterion, Optimizer\n",
    "    model = EfficientNetGRU(sequence_length=sequence_length)\n",
    "    criterion = nn.CrossEntropyLoss()\n",
    "    optimizer = torch.optim.Adam(model.parameters(), lr=learning_rate)\n",
    "\n",
    "    # Train and Evaluate\n",
    "    train_model(model, train_loader, criterion, optimizer, num_epochs, device)\n",
    "    evaluate_model(model, val_loader, device)\n"
   ]
  },
  {
   "cell_type": "code",
   "execution_count": 14,
   "id": "7f65adac-96b1-43fd-badc-c06cf1a3519e",
   "metadata": {},
   "outputs": [
    {
     "name": "stderr",
     "output_type": "stream",
     "text": [
      "Validation: 100%|██████████| 16/16 [00:22<00:00,  1.38s/it]\n"
     ]
    },
    {
     "name": "stdout",
     "output_type": "stream",
     "text": [
      "Classification Report:\n",
      "              precision    recall  f1-score   support\n",
      "\n",
      "    original       0.89      0.81      0.85        59\n",
      " manipulated       0.84      0.91      0.87        65\n",
      "\n",
      "    accuracy                           0.86       124\n",
      "   macro avg       0.87      0.86      0.86       124\n",
      "weighted avg       0.86      0.86      0.86       124\n",
      "\n"
     ]
    },
    {
     "data": {
      "image/png": "[encoded data removed]",
      "text/plain": [
       "<Figure size 640x480 with 2 Axes>"
      ]
     },
     "metadata": {},
     "output_type": "display_data"
    }
   ],
   "source": [
    "import matplotlib.pyplot as plt\n",
    "import numpy as np\n",
    "from sklearn.metrics import confusion_matrix, ConfusionMatrixDisplay\n",
    "\n",
    "def plot_confusion_matrix(y_true, y_pred, class_names):\n",
    "    \"\"\"\n",
    "    Plot confusion matrix using sklearn's ConfusionMatrixDisplay.\n",
    "\n",
    "    Args:\n",
    "        y_true (list or np.array): Ground truth labels.\n",
    "        y_pred (list or np.array): Predicted labels.\n",
    "        class_names (list): List of class names (e.g., [\"original\", \"manipulated\"]).\n",
    "    \"\"\"\n",
    "    cm = confusion_matrix(y_true, y_pred)\n",
    "    disp = ConfusionMatrixDisplay(confusion_matrix=cm, display_labels=class_names)\n",
    "    disp.plot(cmap=plt.cm.Blues, values_format='d')\n",
    "    plt.title(\"Confusion Matrix\")\n",
    "    plt.show()\n",
    "\n",
    "# After evaluating the model\n",
    "def evaluate_with_confusion_matrix(model, val_loader, device, class_names):\n",
    "    \"\"\"\n",
    "    Evaluate the model and generate the confusion matrix.\n",
    "\n",
    "    Args:\n",
    "        model (nn.Module): Trained model.\n",
    "        val_loader (DataLoader): Validation DataLoader.\n",
    "        device (torch.device): Computation device (CPU or GPU).\n",
    "        class_names (list): List of class names.\n",
    "    \"\"\"\n",
    "    model.eval()\n",
    "    y_true, y_pred = [], []\n",
    "\n",
    "    with torch.no_grad():\n",
    "        for sequences, labels in tqdm(val_loader, desc=\"Validation\"):\n",
    "            sequences, labels = sequences.to(device), labels.to(device)\n",
    "            outputs = model(sequences)\n",
    "\n",
    "            y_true.extend(labels.cpu().numpy())\n",
    "            y_pred.extend(outputs.argmax(dim=1).cpu().numpy())\n",
    "\n",
    "    # Print classification report\n",
    "    print(\"Classification Report:\")\n",
    "    print(classification_report(y_true, y_pred, target_names=class_names))\n",
    "\n",
    "    # Plot confusion matrix\n",
    "    plot_confusion_matrix(y_true, y_pred, class_names)\n",
    "\n",
    "# Example Usage\n",
    "if __name__ == \"__main__\":\n",
    "    # Assuming 'model', 'val_loader', and 'device' are already defined\n",
    "    class_names = [\"original\", \"manipulated\"]\n",
    "    evaluate_with_confusion_matrix(model, val_loader, device, class_names)\n"
   ]
  },
  {
   "cell_type": "code",
   "execution_count": 19,
   "id": "a2b70f1d-cfda-42fc-b396-d84b252f6e9e",
   "metadata": {
    "scrolled": true
   },
   "outputs": [
    {
     "name": "stderr",
     "output_type": "stream",
     "text": [
      "C:\\Enviroment\\anaconda3\\Lib\\site-packages\\torchvision\\models\\_utils.py:208: UserWarning: The parameter 'pretrained' is deprecated since 0.13 and may be removed in the future, please use 'weights' instead.\n",
      "  warnings.warn(\n",
      "C:\\Enviroment\\anaconda3\\Lib\\site-packages\\torchvision\\models\\_utils.py:223: UserWarning: Arguments other than a weight enum or `None` for 'weights' are deprecated since 0.13 and may be removed in the future. The current behavior is equivalent to passing `weights=EfficientNet_B0_Weights.IMAGENET1K_V1`. You can also use `weights=EfficientNet_B0_Weights.DEFAULT` to get the most up-to-date weights.\n",
      "  warnings.warn(msg)\n"
     ]
    },
    {
     "ename": "TypeError",
     "evalue": "train_model() missing 1 required positional argument: 'device'",
     "output_type": "error",
     "traceback": [
      "\u001b[1;31m---------------------------------------------------------------------------\u001b[0m",
      "\u001b[1;31mTypeError\u001b[0m                                 Traceback (most recent call last)",
      "Cell \u001b[1;32mIn[19], line 31\u001b[0m\n\u001b[0;32m     28\u001b[0m optimizer \u001b[38;5;241m=\u001b[39m torch\u001b[38;5;241m.\u001b[39moptim\u001b[38;5;241m.\u001b[39mAdam(model\u001b[38;5;241m.\u001b[39mparameters(), lr\u001b[38;5;241m=\u001b[39mlearning_rate)\n\u001b[0;32m     30\u001b[0m \u001b[38;5;66;03m# Train the model\u001b[39;00m\n\u001b[1;32m---> 31\u001b[0m train_model(model, train_loader, criterion, optimizer, num_epochs, device)\n\u001b[0;32m     33\u001b[0m \u001b[38;5;66;03m# Evaluate the model\u001b[39;00m\n\u001b[0;32m     34\u001b[0m evaluate_model(model, val_loader, device)\n",
      "\u001b[1;31mTypeError\u001b[0m: train_model() missing 1 required positional argument: 'device'"
     ]
    }
   ],
   "source": [
    "# Save the trained model\n",
    "def save_model(model, file_path):\n",
    "    torch.save(model.state_dict(), file_path)\n",
    "    print(f\"Model saved to {file_path}\")\n",
    "\n",
    "# Main Script (After Training)\n",
    "if __name__ == \"__main__\":\n",
    "    # Hyperparameters and setup\n",
    "    sequence_length = 10\n",
    "    batch_size = 8\n",
    "    num_epochs = 5\n",
    "    learning_rate = 1e-4\n",
    "    val_split = 0.2\n",
    "\n",
    "    # Dataset directory (contains 'original' and 'manipulated' subfolders)\n",
    "    data_dir = \"cropped_faces_big\"\n",
    "\n",
    "    # Device Configuration\n",
    "    device = torch.device(\"cuda\" if torch.cuda.is_available() else \"cpu\")\n",
    "\n",
    "    # Get Data Loaders\n",
    "    train_loader, val_loader = get_data_loaders(data_dir, sequence_length=sequence_length, batch_size=batch_size, val_split=val_split)\n",
    "\n",
    "    # Initialize Model, Criterion, Optimizer\n",
    "    model = EfficientNetGRU(sequence_length=sequence_length)\n",
    "    model.to(device)\n",
    "    criterion = nn.CrossEntropyLoss()\n",
    "    optimizer = torch.optim.Adam(model.parameters(), lr=learning_rate)\n",
    "\n",
    "    # Train the model\n",
    "    train_model(model, train_loader, criterion, optimizer, num_epochs, device)\n",
    "\n",
    "    # Evaluate the model\n",
    "    evaluate_model(model, val_loader, device)\n",
    "\n",
    "    # Save the model after training\n",
    "    save_model(model, \"EfficientNet-GRU.pth\")\n"
   ]
  },
  {
   "cell_type": "code",
   "execution_count": 17,
   "id": "a46791a0-5614-498d-a1d3-ec0441941aa4",
   "metadata": {},
   "outputs": [
    {
     "name": "stderr",
     "output_type": "stream",
     "text": [
      "Epoch 1: 100%|██████████| 63/63 [05:01<00:00,  4.78s/it]\n"
     ]
    },
    {
     "name": "stdout",
     "output_type": "stream",
     "text": [
      "Epoch 1/10, Loss: 0.6227, Training Accuracy: 0.6499\n"
     ]
    },
    {
     "name": "stderr",
     "output_type": "stream",
     "text": [
      "Validation: 100%|██████████| 16/16 [00:20<00:00,  1.26s/it]\n"
     ]
    },
    {
     "name": "stdout",
     "output_type": "stream",
     "text": [
      "Validation Accuracy after Epoch 1: 0.7339\n",
      "Model saved at epoch 1 with validation accuracy 0.7339\n"
     ]
    },
    {
     "name": "stderr",
     "output_type": "stream",
     "text": [
      "Epoch 2: 100%|██████████| 63/63 [05:32<00:00,  5.27s/it]\n"
     ]
    },
    {
     "name": "stdout",
     "output_type": "stream",
     "text": [
      "Epoch 2/10, Loss: 0.3881, Training Accuracy: 0.8350\n"
     ]
    },
    {
     "name": "stderr",
     "output_type": "stream",
     "text": [
      "Validation: 100%|██████████| 16/16 [00:20<00:00,  1.30s/it]\n"
     ]
    },
    {
     "name": "stdout",
     "output_type": "stream",
     "text": [
      "Validation Accuracy after Epoch 2: 0.7903\n",
      "Model saved at epoch 2 with validation accuracy 0.7903\n"
     ]
    },
    {
     "name": "stderr",
     "output_type": "stream",
     "text": [
      "Epoch 3: 100%|██████████| 63/63 [05:16<00:00,  5.03s/it]\n"
     ]
    },
    {
     "name": "stdout",
     "output_type": "stream",
     "text": [
      "Epoch 3/10, Loss: 0.2576, Training Accuracy: 0.8813\n"
     ]
    },
    {
     "name": "stderr",
     "output_type": "stream",
     "text": [
      "Validation: 100%|██████████| 16/16 [00:20<00:00,  1.29s/it]\n"
     ]
    },
    {
     "name": "stdout",
     "output_type": "stream",
     "text": [
      "Validation Accuracy after Epoch 3: 0.7177\n"
     ]
    },
    {
     "name": "stderr",
     "output_type": "stream",
     "text": [
      "Epoch 4: 100%|██████████| 63/63 [05:20<00:00,  5.08s/it]\n"
     ]
    },
    {
     "name": "stdout",
     "output_type": "stream",
     "text": [
      "Epoch 4/10, Loss: 0.1911, Training Accuracy: 0.9316\n"
     ]
    },
    {
     "name": "stderr",
     "output_type": "stream",
     "text": [
      "Validation: 100%|██████████| 16/16 [00:20<00:00,  1.29s/it]\n"
     ]
    },
    {
     "name": "stdout",
     "output_type": "stream",
     "text": [
      "Validation Accuracy after Epoch 4: 0.6935\n"
     ]
    },
    {
     "name": "stderr",
     "output_type": "stream",
     "text": [
      "Epoch 5: 100%|██████████| 63/63 [05:13<00:00,  4.98s/it]\n"
     ]
    },
    {
     "name": "stdout",
     "output_type": "stream",
     "text": [
      "Epoch 5/10, Loss: 0.1160, Training Accuracy: 0.9638\n"
     ]
    },
    {
     "name": "stderr",
     "output_type": "stream",
     "text": [
      "Validation: 100%|██████████| 16/16 [00:21<00:00,  1.32s/it]\n"
     ]
    },
    {
     "name": "stdout",
     "output_type": "stream",
     "text": [
      "Validation Accuracy after Epoch 5: 0.7339\n"
     ]
    },
    {
     "name": "stderr",
     "output_type": "stream",
     "text": [
      "Epoch 6: 100%|██████████| 63/63 [05:17<00:00,  5.04s/it]\n"
     ]
    },
    {
     "name": "stdout",
     "output_type": "stream",
     "text": [
      "Epoch 6/10, Loss: 0.1424, Training Accuracy: 0.9577\n"
     ]
    },
    {
     "name": "stderr",
     "output_type": "stream",
     "text": [
      "Validation: 100%|██████████| 16/16 [00:20<00:00,  1.29s/it]\n"
     ]
    },
    {
     "name": "stdout",
     "output_type": "stream",
     "text": [
      "Validation Accuracy after Epoch 6: 0.8629\n",
      "Model saved at epoch 6 with validation accuracy 0.8629\n"
     ]
    },
    {
     "name": "stderr",
     "output_type": "stream",
     "text": [
      "Epoch 7: 100%|██████████| 63/63 [05:13<00:00,  4.98s/it]\n"
     ]
    },
    {
     "name": "stdout",
     "output_type": "stream",
     "text": [
      "Epoch 7/10, Loss: 0.1627, Training Accuracy: 0.9497\n"
     ]
    },
    {
     "name": "stderr",
     "output_type": "stream",
     "text": [
      "Validation: 100%|██████████| 16/16 [00:20<00:00,  1.28s/it]\n"
     ]
    },
    {
     "name": "stdout",
     "output_type": "stream",
     "text": [
      "Validation Accuracy after Epoch 7: 0.7177\n"
     ]
    },
    {
     "name": "stderr",
     "output_type": "stream",
     "text": [
      "Epoch 8: 100%|██████████| 63/63 [05:09<00:00,  4.91s/it]\n"
     ]
    },
    {
     "name": "stdout",
     "output_type": "stream",
     "text": [
      "Epoch 8/10, Loss: 0.1000, Training Accuracy: 0.9577\n"
     ]
    },
    {
     "name": "stderr",
     "output_type": "stream",
     "text": [
      "Validation: 100%|██████████| 16/16 [00:19<00:00,  1.23s/it]\n"
     ]
    },
    {
     "name": "stdout",
     "output_type": "stream",
     "text": [
      "Validation Accuracy after Epoch 8: 0.8306\n"
     ]
    },
    {
     "name": "stderr",
     "output_type": "stream",
     "text": [
      "Epoch 9: 100%|██████████| 63/63 [05:00<00:00,  4.77s/it]\n"
     ]
    },
    {
     "name": "stdout",
     "output_type": "stream",
     "text": [
      "Epoch 9/10, Loss: 0.0762, Training Accuracy: 0.9718\n"
     ]
    },
    {
     "name": "stderr",
     "output_type": "stream",
     "text": [
      "Validation: 100%|██████████| 16/16 [00:19<00:00,  1.22s/it]\n"
     ]
    },
    {
     "name": "stdout",
     "output_type": "stream",
     "text": [
      "Validation Accuracy after Epoch 9: 0.9032\n",
      "Model saved at epoch 9 with validation accuracy 0.9032\n"
     ]
    },
    {
     "name": "stderr",
     "output_type": "stream",
     "text": [
      "Epoch 10: 100%|██████████| 63/63 [04:59<00:00,  4.76s/it]\n"
     ]
    },
    {
     "name": "stdout",
     "output_type": "stream",
     "text": [
      "Epoch 10/10, Loss: 0.0892, Training Accuracy: 0.9718\n"
     ]
    },
    {
     "name": "stderr",
     "output_type": "stream",
     "text": [
      "Validation: 100%|██████████| 16/16 [00:19<00:00,  1.23s/it]\n"
     ]
    },
    {
     "name": "stdout",
     "output_type": "stream",
     "text": [
      "Validation Accuracy after Epoch 10: 0.5565\n"
     ]
    },
    {
     "name": "stderr",
     "output_type": "stream",
     "text": [
      "Validation: 100%|██████████| 16/16 [00:19<00:00,  1.19s/it]"
     ]
    },
    {
     "name": "stdout",
     "output_type": "stream",
     "text": [
      "Classification Report:\n",
      "              precision    recall  f1-score   support\n",
      "\n",
      "    original       0.51      0.90      0.65        58\n",
      " manipulated       0.74      0.26      0.38        66\n",
      "\n",
      "    accuracy                           0.56       124\n",
      "   macro avg       0.63      0.58      0.52       124\n",
      "weighted avg       0.63      0.56      0.51       124\n",
      "\n",
      "Confusion Matrix:\n",
      "[[52  6]\n",
      " [49 17]]\n"
     ]
    },
    {
     "name": "stderr",
     "output_type": "stream",
     "text": [
      "\n"
     ]
    }
   ],
   "source": [
    "import os\n",
    "import random\n",
    "import torch\n",
    "from torch import nn\n",
    "from torch.utils.data import Dataset, DataLoader, random_split\n",
    "from torchvision import transforms, models\n",
    "from PIL import Image\n",
    "from tqdm import tqdm\n",
    "from sklearn.metrics import accuracy_score, classification_report\n",
    "\n",
    "# Define Dataset Class\n",
    "class VideoFrameDataset(Dataset):\n",
    "    def __init__(self, data_dir, transform=None, sequence_length=10):\n",
    "        \"\"\"\n",
    "        Args:\n",
    "            data_dir (str): Directory containing 'original' and 'manipulated' subdirectories.\n",
    "            transform (callable, optional): Transform to be applied on frames.\n",
    "            sequence_length (int): Number of frames per video sequence.\n",
    "        \"\"\"\n",
    "        self.data_dir = data_dir\n",
    "        self.transform = transform\n",
    "        self.sequence_length = sequence_length\n",
    "        self.classes = {\"original\": 0, \"manipulated\": 1}\n",
    "        self.data = []\n",
    "\n",
    "        for cls, label in self.classes.items():\n",
    "            cls_path = os.path.join(data_dir, cls)\n",
    "            videos = os.listdir(cls_path)\n",
    "            for video in videos:\n",
    "                video_path = os.path.join(cls_path, video)\n",
    "                frames = sorted(os.listdir(video_path))\n",
    "                if len(frames) >= sequence_length:\n",
    "                    self.data.append((video_path, label, frames))\n",
    "\n",
    "    def __len__(self):\n",
    "        return len(self.data)\n",
    "\n",
    "    def __getitem__(self, idx):\n",
    "        video_path, label, frames = self.data[idx]\n",
    "        sequence = []\n",
    "\n",
    "        # Select a fixed number of frames\n",
    "        selected_frames = frames[:self.sequence_length]\n",
    "\n",
    "        for frame in selected_frames:\n",
    "            frame_path = os.path.join(video_path, frame)\n",
    "            image = Image.open(frame_path).convert(\"RGB\")\n",
    "            if self.transform:\n",
    "                image = self.transform(image)\n",
    "            sequence.append(image)\n",
    "\n",
    "        sequence = torch.stack(sequence)\n",
    "        return sequence, label\n",
    "\n",
    "# Data Loading and Splitting\n",
    "def get_data_loaders(data_dir, sequence_length=10, batch_size=8, val_split=0.2):\n",
    "    transform = transforms.Compose([\n",
    "        transforms.Resize((224, 224)),\n",
    "        transforms.ToTensor(),\n",
    "        transforms.Normalize(mean=[0.485, 0.456, 0.406], std=[0.229, 0.224, 0.225])\n",
    "    ])\n",
    "\n",
    "    dataset = VideoFrameDataset(data_dir=data_dir, transform=transform, sequence_length=sequence_length)\n",
    "\n",
    "    val_size = int(len(dataset) * val_split)\n",
    "    train_size = len(dataset) - val_size\n",
    "    train_dataset, val_dataset = random_split(dataset, [train_size, val_size])\n",
    "\n",
    "    train_loader = DataLoader(train_dataset, batch_size=batch_size, shuffle=True)\n",
    "    val_loader = DataLoader(val_dataset, batch_size=batch_size, shuffle=False)\n",
    "\n",
    "    return train_loader, val_loader\n",
    "\n",
    "# Model Definition\n",
    "class EfficientNetGRU(nn.Module):\n",
    "    def __init__(self, sequence_length=10, num_classes=2):\n",
    "        super(EfficientNetGRU, self).__init__()\n",
    "        self.sequence_length = sequence_length\n",
    "\n",
    "        # EfficientNet Backbone\n",
    "        self.efficientnet = models.efficientnet_b0(pretrained=True)\n",
    "        self.efficientnet_features = nn.Sequential(\n",
    "            *list(self.efficientnet.children())[:-2]\n",
    "        )\n",
    "        feature_size = self.efficientnet.classifier[1].in_features\n",
    "\n",
    "        # GRU Layer\n",
    "        self.gru = nn.GRU(feature_size, hidden_size=128, num_layers=2, batch_first=True, bidirectional=True)\n",
    "\n",
    "        # Fully Connected Layer\n",
    "        self.fc = nn.Linear(128 * 2, num_classes)\n",
    "\n",
    "    def forward(self, x):\n",
    "        batch_size, seq_len, c, h, w = x.size()\n",
    "        assert seq_len == self.sequence_length, \"Sequence length mismatch!\"\n",
    "\n",
    "        # Extract features frame-by-frame\n",
    "        features = []\n",
    "        for i in range(seq_len):\n",
    "            frame_features = self.efficientnet_features(x[:, i])\n",
    "            frame_features = frame_features.mean([2, 3])  # Global average pooling\n",
    "            features.append(frame_features)\n",
    "\n",
    "        features = torch.stack(features, dim=1)\n",
    "\n",
    "        # GRU processing\n",
    "        _, hidden = self.gru(features)\n",
    "        hidden = torch.cat([hidden[-2], hidden[-1]], dim=1)\n",
    "\n",
    "        # Classification\n",
    "        output = self.fc(hidden)\n",
    "        return output\n",
    "\n",
    "# Training Loop with Validation Accuracy Calculation and Model Saving\n",
    "def train_model(model, train_loader, val_loader, criterion, optimizer, num_epochs, device, save_dir=\"models\"):\n",
    "    model.to(device)\n",
    "    \n",
    "    best_val_acc = 0.0  # Track best validation accuracy\n",
    "    if not os.path.exists(save_dir):\n",
    "        os.makedirs(save_dir)\n",
    "    \n",
    "    for epoch in range(num_epochs):\n",
    "        # Training phase\n",
    "        model.train()\n",
    "        running_loss = 0.0\n",
    "        y_true_train, y_pred_train = [], []\n",
    "\n",
    "        for sequences, labels in tqdm(train_loader, desc=f\"Epoch {epoch + 1}\"):\n",
    "            sequences, labels = sequences.to(device), labels.to(device)\n",
    "\n",
    "            optimizer.zero_grad()\n",
    "            outputs = model(sequences)\n",
    "            loss = criterion(outputs, labels)\n",
    "            loss.backward()\n",
    "            optimizer.step()\n",
    "\n",
    "            running_loss += loss.item()\n",
    "            y_true_train.extend(labels.cpu().numpy())\n",
    "            y_pred_train.extend(outputs.argmax(dim=1).cpu().numpy())\n",
    "\n",
    "        train_acc = accuracy_score(y_true_train, y_pred_train)\n",
    "        print(f\"Epoch {epoch + 1}/{num_epochs}, Loss: {running_loss / len(train_loader):.4f}, Training Accuracy: {train_acc:.4f}\")\n",
    "\n",
    "        # Validation phase\n",
    "        val_acc = evaluate_accuracy(model, val_loader, device)\n",
    "        print(f\"Validation Accuracy after Epoch {epoch + 1}: {val_acc:.4f}\")\n",
    "\n",
    "        # Save the model if validation accuracy improves\n",
    "        if val_acc > best_val_acc:\n",
    "            best_val_acc = val_acc\n",
    "            model_path = os.path.join(save_dir, f\"best_model_epoch_{epoch + 1}.pth\")\n",
    "            torch.save(model.state_dict(), model_path)\n",
    "            print(f\"Model saved at epoch {epoch + 1} with validation accuracy {val_acc:.4f}\")\n",
    "\n",
    "# Evaluation Accuracy Calculation\n",
    "def evaluate_accuracy(model, val_loader, device):\n",
    "    model.eval()\n",
    "    y_true_val, y_pred_val = [], []\n",
    "\n",
    "    with torch.no_grad():\n",
    "        for sequences, labels in tqdm(val_loader, desc=\"Validation\"):\n",
    "            sequences, labels = sequences.to(device), labels.to(device)\n",
    "            outputs = model(sequences)\n",
    "\n",
    "            y_true_val.extend(labels.cpu().numpy())\n",
    "            y_pred_val.extend(outputs.argmax(dim=1).cpu().numpy())\n",
    "\n",
    "    val_acc = accuracy_score(y_true_val, y_pred_val)\n",
    "    return val_acc\n",
    "\n",
    "# Main Script\n",
    "if __name__ == \"__main__\":\n",
    "    # Hyperparameters\n",
    "    sequence_length = 10\n",
    "    batch_size = 8\n",
    "    num_epochs = 10\n",
    "    learning_rate = 1e-4\n",
    "    val_split = 0.2\n",
    "\n",
    "    # Dataset directory (contains 'original' and 'manipulated' subfolders)\n",
    "    data_dir = \"cropped_faces_big\"\n",
    "\n",
    "    # Device Configuration\n",
    "    device = torch.device(\"cuda\" if torch.cuda.is_available() else \"cpu\")\n",
    "\n",
    "    # Get Data Loaders\n",
    "    train_loader, val_loader = get_data_loaders(data_dir, sequence_length=sequence_length, batch_size=batch_size, val_split=val_split)\n",
    "\n",
    "    # Initialize Model, Criterion, Optimizer\n",
    "    model = EfficientNetGRU(sequence_length=sequence_length)\n",
    "    criterion = nn.CrossEntropyLoss()\n",
    "    optimizer = torch.optim.Adam(model.parameters(), lr=learning_rate)\n",
    "\n",
    "    # Train and Evaluate\n",
    "    train_model(model, train_loader, val_loader, criterion, optimizer, num_epochs, device)\n",
    "    # Final evaluation of the model\n",
    "    evaluate_model(model, val_loader, device)\n"
   ]
  },
  {
   "cell_type": "code",
   "execution_count": 18,
   "id": "2090295e-b288-4076-84e1-0329e4b0bf12",
   "metadata": {},
   "outputs": [
    {
     "name": "stderr",
     "output_type": "stream",
     "text": [
      "Validation: 100%|██████████| 16/16 [00:18<00:00,  1.17s/it]\n"
     ]
    },
    {
     "name": "stdout",
     "output_type": "stream",
     "text": [
      "Classification Report:\n",
      "              precision    recall  f1-score   support\n",
      "\n",
      "    original       0.51      0.90      0.65        58\n",
      " manipulated       0.74      0.26      0.38        66\n",
      "\n",
      "    accuracy                           0.56       124\n",
      "   macro avg       0.63      0.58      0.52       124\n",
      "weighted avg       0.63      0.56      0.51       124\n",
      "\n"
     ]
    },
    {
     "data": {
      "image/png": "[encoded data removed]",
      "text/plain": [
       "<Figure size 640x480 with 2 Axes>"
      ]
     },
     "metadata": {},
     "output_type": "display_data"
    }
   ],
   "source": [
    "import matplotlib.pyplot as plt\n",
    "import numpy as np\n",
    "from sklearn.metrics import confusion_matrix, ConfusionMatrixDisplay\n",
    "\n",
    "def plot_confusion_matrix(y_true, y_pred, class_names):\n",
    "    \"\"\"\n",
    "    Plot confusion matrix using sklearn's ConfusionMatrixDisplay.\n",
    "\n",
    "    Args:\n",
    "        y_true (list or np.array): Ground truth labels.\n",
    "        y_pred (list or np.array): Predicted labels.\n",
    "        class_names (list): List of class names (e.g., [\"original\", \"manipulated\"]).\n",
    "    \"\"\"\n",
    "    cm = confusion_matrix(y_true, y_pred)\n",
    "    disp = ConfusionMatrixDisplay(confusion_matrix=cm, display_labels=class_names)\n",
    "    disp.plot(cmap=plt.cm.Blues, values_format='d')\n",
    "    plt.title(\"Confusion Matrix\")\n",
    "    plt.show()\n",
    "\n",
    "# After evaluating the model\n",
    "def evaluate_with_confusion_matrix(model, val_loader, device, class_names):\n",
    "    \"\"\"\n",
    "    Evaluate the model and generate the confusion matrix.\n",
    "\n",
    "    Args:\n",
    "        model (nn.Module): Trained model.\n",
    "        val_loader (DataLoader): Validation DataLoader.\n",
    "        device (torch.device): Computation device (CPU or GPU).\n",
    "        class_names (list): List of class names.\n",
    "    \"\"\"\n",
    "    model.eval()\n",
    "    y_true, y_pred = [], []\n",
    "\n",
    "    with torch.no_grad():\n",
    "        for sequences, labels in tqdm(val_loader, desc=\"Validation\"):\n",
    "            sequences, labels = sequences.to(device), labels.to(device)\n",
    "            outputs = model(sequences)\n",
    "\n",
    "            y_true.extend(labels.cpu().numpy())\n",
    "            y_pred.extend(outputs.argmax(dim=1).cpu().numpy())\n",
    "\n",
    "    # Print classification report\n",
    "    print(\"Classification Report:\")\n",
    "    print(classification_report(y_true, y_pred, target_names=class_names))\n",
    "\n",
    "    # Plot confusion matrix\n",
    "    plot_confusion_matrix(y_true, y_pred, class_names)\n",
    "\n",
    "# Example Usage\n",
    "if __name__ == \"__main__\":\n",
    "    # Assuming 'model', 'val_loader', and 'device' are already defined\n",
    "    class_names = [\"original\", \"manipulated\"]\n",
    "    evaluate_with_confusion_matrix(model, val_loader, device, class_names)\n"
   ]
  },
  {
   "cell_type": "code",
   "execution_count": 1,
   "id": "566307e7-4bc5-4d30-b7b8-4c77595c6f75",
   "metadata": {},
   "outputs": [
    {
     "name": "stderr",
     "output_type": "stream",
     "text": [
      "C:\\Enviroment\\anaconda3\\Lib\\site-packages\\torchvision\\models\\_utils.py:208: UserWarning: The parameter 'pretrained' is deprecated since 0.13 and may be removed in the future, please use 'weights' instead.\n",
      "  warnings.warn(\n",
      "C:\\Enviroment\\anaconda3\\Lib\\site-packages\\torchvision\\models\\_utils.py:223: UserWarning: Arguments other than a weight enum or `None` for 'weights' are deprecated since 0.13 and may be removed in the future. The current behavior is equivalent to passing `weights=EfficientNet_B0_Weights.IMAGENET1K_V1`. You can also use `weights=EfficientNet_B0_Weights.DEFAULT` to get the most up-to-date weights.\n",
      "  warnings.warn(msg)\n",
      "Epoch 1: 100%|██████████| 63/63 [06:27<00:00,  6.14s/it]\n"
     ]
    },
    {
     "name": "stdout",
     "output_type": "stream",
     "text": [
      "Epoch 1/5, Loss: 0.6285, Accuracy: 0.6419\n"
     ]
    },
    {
     "name": "stderr",
     "output_type": "stream",
     "text": [
      "Epoch 2: 100%|██████████| 63/63 [05:30<00:00,  5.25s/it]\n"
     ]
    },
    {
     "name": "stdout",
     "output_type": "stream",
     "text": [
      "Epoch 2/5, Loss: 0.3706, Accuracy: 0.8451\n"
     ]
    },
    {
     "name": "stderr",
     "output_type": "stream",
     "text": [
      "Epoch 3: 100%|██████████| 63/63 [05:33<00:00,  5.29s/it]\n"
     ]
    },
    {
     "name": "stdout",
     "output_type": "stream",
     "text": [
      "Epoch 3/5, Loss: 0.2047, Accuracy: 0.9195\n"
     ]
    },
    {
     "name": "stderr",
     "output_type": "stream",
     "text": [
      "Epoch 4: 100%|██████████| 63/63 [05:44<00:00,  5.46s/it]\n"
     ]
    },
    {
     "name": "stdout",
     "output_type": "stream",
     "text": [
      "Epoch 4/5, Loss: 0.1709, Accuracy: 0.9336\n"
     ]
    },
    {
     "name": "stderr",
     "output_type": "stream",
     "text": [
      "Epoch 5: 100%|██████████| 63/63 [05:28<00:00,  5.22s/it]\n"
     ]
    },
    {
     "name": "stdout",
     "output_type": "stream",
     "text": [
      "Epoch 5/5, Loss: 0.2127, Accuracy: 0.9135\n"
     ]
    },
    {
     "name": "stderr",
     "output_type": "stream",
     "text": [
      "Validation: 100%|██████████| 16/16 [00:20<00:00,  1.31s/it]"
     ]
    },
    {
     "name": "stdout",
     "output_type": "stream",
     "text": [
      "Classification Report:\n",
      "              precision    recall  f1-score   support\n",
      "\n",
      "    original       0.74      0.93      0.82        60\n",
      " manipulated       0.92      0.69      0.79        64\n",
      "\n",
      "    accuracy                           0.81       124\n",
      "   macro avg       0.83      0.81      0.80       124\n",
      "weighted avg       0.83      0.81      0.80       124\n",
      "\n",
      "Model saved to EfficientNet-GRU.pth\n"
     ]
    },
    {
     "name": "stderr",
     "output_type": "stream",
     "text": [
      "\n"
     ]
    }
   ],
   "source": [
    "import os\n",
    "import random\n",
    "import torch\n",
    "from torch import nn\n",
    "from torch.utils.data import Dataset, DataLoader, random_split\n",
    "from torchvision import transforms, models\n",
    "from PIL import Image\n",
    "from tqdm import tqdm\n",
    "from sklearn.metrics import accuracy_score, classification_report\n",
    "\n",
    "# Define Dataset Class\n",
    "class VideoFrameDataset(Dataset):\n",
    "    def __init__(self, data_dir, transform=None, sequence_length=10):\n",
    "        \"\"\"\n",
    "        Args:\n",
    "            data_dir (str): Directory containing 'original' and 'manipulated' subdirectories.\n",
    "            transform (callable, optional): Transform to be applied on frames.\n",
    "            sequence_length (int): Number of frames per video sequence.\n",
    "        \"\"\"\n",
    "        self.data_dir = data_dir\n",
    "        self.transform = transform\n",
    "        self.sequence_length = sequence_length\n",
    "        self.classes = {\"original\": 0, \"manipulated\": 1}\n",
    "        self.data = []\n",
    "\n",
    "        for cls, label in self.classes.items():\n",
    "            cls_path = os.path.join(data_dir, cls)\n",
    "            videos = os.listdir(cls_path)\n",
    "            for video in videos:\n",
    "                video_path = os.path.join(cls_path, video)\n",
    "                frames = sorted(os.listdir(video_path))\n",
    "                if len(frames) >= sequence_length:\n",
    "                    self.data.append((video_path, label, frames))\n",
    "\n",
    "    def __len__(self):\n",
    "        return len(self.data)\n",
    "\n",
    "    def __getitem__(self, idx):\n",
    "        video_path, label, frames = self.data[idx]\n",
    "        sequence = []\n",
    "\n",
    "        # Select a fixed number of frames\n",
    "        selected_frames = frames[:self.sequence_length]\n",
    "\n",
    "        for frame in selected_frames:\n",
    "            frame_path = os.path.join(video_path, frame)\n",
    "            image = Image.open(frame_path).convert(\"RGB\")\n",
    "            if self.transform:\n",
    "                image = self.transform(image)\n",
    "            sequence.append(image)\n",
    "\n",
    "        sequence = torch.stack(sequence)\n",
    "        return sequence, label\n",
    "\n",
    "# Data Loading and Splitting\n",
    "def get_data_loaders(data_dir, sequence_length=10, batch_size=8, val_split=0.2):\n",
    "    transform = transforms.Compose([\n",
    "        transforms.Resize((224, 224)),\n",
    "        transforms.ToTensor(),\n",
    "        transforms.Normalize(mean=[0.485, 0.456, 0.406], std=[0.229, 0.224, 0.225])\n",
    "    ])\n",
    "\n",
    "    dataset = VideoFrameDataset(data_dir=data_dir, transform=transform, sequence_length=sequence_length)\n",
    "\n",
    "    val_size = int(len(dataset) * val_split)\n",
    "    train_size = len(dataset) - val_size\n",
    "    train_dataset, val_dataset = random_split(dataset, [train_size, val_size])\n",
    "\n",
    "    train_loader = DataLoader(train_dataset, batch_size=batch_size, shuffle=True)\n",
    "    val_loader = DataLoader(val_dataset, batch_size=batch_size, shuffle=False)\n",
    "\n",
    "    return train_loader, val_loader\n",
    "\n",
    "# Model Definition\n",
    "class EfficientNetGRU(nn.Module):\n",
    "    def __init__(self, sequence_length=10, num_classes=2):\n",
    "        super(EfficientNetGRU, self).__init__()\n",
    "        self.sequence_length = sequence_length\n",
    "\n",
    "        # EfficientNet Backbone\n",
    "        self.efficientnet = models.efficientnet_b0(pretrained=True)\n",
    "        self.efficientnet_features = nn.Sequential(\n",
    "            *list(self.efficientnet.children())[:-2]\n",
    "        )\n",
    "        feature_size = self.efficientnet.classifier[1].in_features\n",
    "\n",
    "        # GRU Layer\n",
    "        self.gru = nn.GRU(feature_size, hidden_size=128, num_layers=2, batch_first=True, bidirectional=True)\n",
    "\n",
    "        # Fully Connected Layer\n",
    "        self.fc = nn.Linear(128 * 2, num_classes)\n",
    "\n",
    "    def forward(self, x):\n",
    "        batch_size, seq_len, c, h, w = x.size()\n",
    "        assert seq_len == self.sequence_length, \"Sequence length mismatch!\"\n",
    "\n",
    "        # Extract features frame-by-frame\n",
    "        features = []\n",
    "        for i in range(seq_len):\n",
    "            frame_features = self.efficientnet_features(x[:, i])\n",
    "            frame_features = frame_features.mean([2, 3])  # Global average pooling\n",
    "            features.append(frame_features)\n",
    "\n",
    "        features = torch.stack(features, dim=1)\n",
    "\n",
    "        # GRU processing\n",
    "        _, hidden = self.gru(features)\n",
    "        hidden = torch.cat([hidden[-2], hidden[-1]], dim=1)\n",
    "\n",
    "        # Classification\n",
    "        output = self.fc(hidden)\n",
    "        return output\n",
    "\n",
    "# Training Loop\n",
    "def train_model(model, train_loader, criterion, optimizer, num_epochs, device):\n",
    "    model.to(device)\n",
    "    for epoch in range(num_epochs):\n",
    "        model.train()\n",
    "        running_loss = 0.0\n",
    "        y_true, y_pred = [], []\n",
    "\n",
    "        for sequences, labels in tqdm(train_loader, desc=f\"Epoch {epoch + 1}\"):\n",
    "            sequences, labels = sequences.to(device), labels.to(device)\n",
    "\n",
    "            optimizer.zero_grad()\n",
    "            outputs = model(sequences)\n",
    "            loss = criterion(outputs, labels)\n",
    "            loss.backward()\n",
    "            optimizer.step()\n",
    "\n",
    "            running_loss += loss.item()\n",
    "            y_true.extend(labels.cpu().numpy())\n",
    "            y_pred.extend(outputs.argmax(dim=1).cpu().numpy())\n",
    "\n",
    "        train_acc = accuracy_score(y_true, y_pred)\n",
    "        print(f\"Epoch {epoch + 1}/{num_epochs}, Loss: {running_loss / len(train_loader):.4f}, Accuracy: {train_acc:.4f}\")\n",
    "\n",
    "# Evaluation Loop\n",
    "def evaluate_model(model, val_loader, device):\n",
    "    model.eval()\n",
    "    y_true, y_pred = [], []\n",
    "\n",
    "    with torch.no_grad():\n",
    "        for sequences, labels in tqdm(val_loader, desc=\"Validation\"):\n",
    "            sequences, labels = sequences.to(device), labels.to(device)\n",
    "            outputs = model(sequences)\n",
    "\n",
    "            y_true.extend(labels.cpu().numpy())\n",
    "            y_pred.extend(outputs.argmax(dim=1).cpu().numpy())\n",
    "\n",
    "    print(\"Classification Report:\")\n",
    "    print(classification_report(y_true, y_pred, target_names=[\"original\", \"manipulated\"]))\n",
    "\n",
    "# Save the trained model\n",
    "def save_model(model, file_path):\n",
    "    torch.save(model.state_dict(), file_path)\n",
    "    print(f\"Model saved to {file_path}\")\n",
    "\n",
    "# Main Script (After Training)\n",
    "if __name__ == \"__main__\":\n",
    "    # Hyperparameters and setup\n",
    "    sequence_length = 10\n",
    "    batch_size = 8\n",
    "    num_epochs = 5\n",
    "    learning_rate = 1e-4\n",
    "    val_split = 0.2\n",
    "\n",
    "    # Dataset directory (contains 'original' and 'manipulated' subfolders)\n",
    "    data_dir = \"cropped_faces_big\"\n",
    "\n",
    "    # Device Configuration\n",
    "    device = torch.device(\"cuda\" if torch.cuda.is_available() else \"cpu\")\n",
    "\n",
    "    # Get Data Loaders\n",
    "    train_loader, val_loader = get_data_loaders(data_dir, sequence_length=sequence_length, batch_size=batch_size, val_split=val_split)\n",
    "\n",
    "    # Initialize Model, Criterion, Optimizer\n",
    "    model = EfficientNetGRU(sequence_length=sequence_length)\n",
    "    model.to(device)\n",
    "    criterion = nn.CrossEntropyLoss()\n",
    "    optimizer = torch.optim.Adam(model.parameters(), lr=learning_rate)\n",
    "\n",
    "    # Train the model\n",
    "    train_model(model, train_loader, criterion, optimizer, num_epochs, device)\n",
    "\n",
    "    # Evaluate the model\n",
    "    evaluate_model(model, val_loader, device)\n",
    "\n",
    "    # Save the model after training\n",
    "    save_model(model, \"EfficientNet-GRU.pth\")\n"
   ]
  },
  {
   "cell_type": "code",
   "execution_count": 2,
   "id": "7c0292d4-6d3b-44b9-906e-f1dee7c2ef98",
   "metadata": {},
   "outputs": [
    {
     "name": "stderr",
     "output_type": "stream",
     "text": [
      "Validation: 100%|██████████| 16/16 [00:18<00:00,  1.18s/it]\n"
     ]
    },
    {
     "name": "stdout",
     "output_type": "stream",
     "text": [
      "Classification Report:\n",
      "              precision    recall  f1-score   support\n",
      "\n",
      "    original       0.74      0.93      0.82        60\n",
      " manipulated       0.92      0.69      0.79        64\n",
      "\n",
      "    accuracy                           0.81       124\n",
      "   macro avg       0.83      0.81      0.80       124\n",
      "weighted avg       0.83      0.81      0.80       124\n",
      "\n"
     ]
    },
    {
     "data": {
      "image/png": "[encoded data removed]",
      "text/plain": [
       "<Figure size 640x480 with 2 Axes>"
      ]
     },
     "metadata": {},
     "output_type": "display_data"
    }
   ],
   "source": [
    "import matplotlib.pyplot as plt\n",
    "import numpy as np\n",
    "from sklearn.metrics import confusion_matrix, ConfusionMatrixDisplay\n",
    "\n",
    "def plot_confusion_matrix(y_true, y_pred, class_names):\n",
    "    \"\"\"\n",
    "    Plot confusion matrix using sklearn's ConfusionMatrixDisplay.\n",
    "\n",
    "    Args:\n",
    "        y_true (list or np.array): Ground truth labels.\n",
    "        y_pred (list or np.array): Predicted labels.\n",
    "        class_names (list): List of class names (e.g., [\"original\", \"manipulated\"]).\n",
    "    \"\"\"\n",
    "    cm = confusion_matrix(y_true, y_pred)\n",
    "    disp = ConfusionMatrixDisplay(confusion_matrix=cm, display_labels=class_names)\n",
    "    disp.plot(cmap=plt.cm.Blues, values_format='d')\n",
    "    plt.title(\"Confusion Matrix\")\n",
    "    plt.show()\n",
    "\n",
    "# After evaluating the model\n",
    "def evaluate_with_confusion_matrix(model, val_loader, device, class_names):\n",
    "    \"\"\"\n",
    "    Evaluate the model and generate the confusion matrix.\n",
    "\n",
    "    Args:\n",
    "        model (nn.Module): Trained model.\n",
    "        val_loader (DataLoader): Validation DataLoader.\n",
    "        device (torch.device): Computation device (CPU or GPU).\n",
    "        class_names (list): List of class names.\n",
    "    \"\"\"\n",
    "    model.eval()\n",
    "    y_true, y_pred = [], []\n",
    "\n",
    "    with torch.no_grad():\n",
    "        for sequences, labels in tqdm(val_loader, desc=\"Validation\"):\n",
    "            sequences, labels = sequences.to(device), labels.to(device)\n",
    "            outputs = model(sequences)\n",
    "\n",
    "            y_true.extend(labels.cpu().numpy())\n",
    "            y_pred.extend(outputs.argmax(dim=1).cpu().numpy())\n",
    "\n",
    "    # Print classification report\n",
    "    print(\"Classification Report:\")\n",
    "    print(classification_report(y_true, y_pred, target_names=class_names))\n",
    "\n",
    "    # Plot confusion matrix\n",
    "    plot_confusion_matrix(y_true, y_pred, class_names)\n",
    "\n",
    "# Example Usage\n",
    "if __name__ == \"__main__\":\n",
    "    # Assuming 'model', 'val_loader', and 'device' are already defined\n",
    "    class_names = [\"original\", \"manipulated\"]\n",
    "    evaluate_with_confusion_matrix(model, val_loader, device, class_names)\n"
   ]
  },
  {
   "cell_type": "code",
   "execution_count": 1,
   "id": "1c867780-0f7c-4325-ad1c-bc294c20f164",
   "metadata": {},
   "outputs": [
    {
     "name": "stderr",
     "output_type": "stream",
     "text": [
      "C:\\Enviroment\\anaconda3\\Lib\\site-packages\\torchvision\\models\\_utils.py:208: UserWarning: The parameter 'pretrained' is deprecated since 0.13 and may be removed in the future, please use 'weights' instead.\n",
      "  warnings.warn(\n",
      "C:\\Enviroment\\anaconda3\\Lib\\site-packages\\torchvision\\models\\_utils.py:223: UserWarning: Arguments other than a weight enum or `None` for 'weights' are deprecated since 0.13 and may be removed in the future. The current behavior is equivalent to passing `weights=EfficientNet_B0_Weights.IMAGENET1K_V1`. You can also use `weights=EfficientNet_B0_Weights.DEFAULT` to get the most up-to-date weights.\n",
      "  warnings.warn(msg)\n",
      "Epoch 1: 100%|██████████| 53/53 [04:45<00:00,  5.39s/it]\n"
     ]
    },
    {
     "name": "stdout",
     "output_type": "stream",
     "text": [
      "Epoch 1/5, Loss: 0.6279, Training Accuracy: 0.6321\n"
     ]
    },
    {
     "name": "stderr",
     "output_type": "stream",
     "text": [
      "Validation: 100%|██████████| 14/14 [00:17<00:00,  1.28s/it]\n"
     ]
    },
    {
     "name": "stdout",
     "output_type": "stream",
     "text": [
      "Validation Accuracy after Epoch 1: 0.8476\n",
      "Model saved at epoch 1 with validation accuracy 0.8476\n"
     ]
    },
    {
     "name": "stderr",
     "output_type": "stream",
     "text": [
      "Epoch 2: 100%|██████████| 53/53 [04:39<00:00,  5.27s/it]\n"
     ]
    },
    {
     "name": "stdout",
     "output_type": "stream",
     "text": [
      "Epoch 2/5, Loss: 0.4180, Training Accuracy: 0.8184\n"
     ]
    },
    {
     "name": "stderr",
     "output_type": "stream",
     "text": [
      "Validation: 100%|██████████| 14/14 [00:17<00:00,  1.25s/it]\n"
     ]
    },
    {
     "name": "stdout",
     "output_type": "stream",
     "text": [
      "Validation Accuracy after Epoch 2: 0.8762\n",
      "Model saved at epoch 2 with validation accuracy 0.8762\n"
     ]
    },
    {
     "name": "stderr",
     "output_type": "stream",
     "text": [
      "Epoch 3: 100%|██████████| 53/53 [04:43<00:00,  5.35s/it]\n"
     ]
    },
    {
     "name": "stdout",
     "output_type": "stream",
     "text": [
      "Epoch 3/5, Loss: 0.2382, Training Accuracy: 0.9080\n"
     ]
    },
    {
     "name": "stderr",
     "output_type": "stream",
     "text": [
      "Validation: 100%|██████████| 14/14 [00:18<00:00,  1.32s/it]\n"
     ]
    },
    {
     "name": "stdout",
     "output_type": "stream",
     "text": [
      "Validation Accuracy after Epoch 3: 0.8857\n",
      "Model saved at epoch 3 with validation accuracy 0.8857\n"
     ]
    },
    {
     "name": "stderr",
     "output_type": "stream",
     "text": [
      "Epoch 4: 100%|██████████| 53/53 [04:39<00:00,  5.27s/it]\n"
     ]
    },
    {
     "name": "stdout",
     "output_type": "stream",
     "text": [
      "Epoch 4/5, Loss: 0.1833, Training Accuracy: 0.9175\n"
     ]
    },
    {
     "name": "stderr",
     "output_type": "stream",
     "text": [
      "Validation: 100%|██████████| 14/14 [00:17<00:00,  1.24s/it]\n"
     ]
    },
    {
     "name": "stdout",
     "output_type": "stream",
     "text": [
      "Validation Accuracy after Epoch 4: 0.8190\n"
     ]
    },
    {
     "name": "stderr",
     "output_type": "stream",
     "text": [
      "Epoch 5: 100%|██████████| 53/53 [04:39<00:00,  5.28s/it]\n"
     ]
    },
    {
     "name": "stdout",
     "output_type": "stream",
     "text": [
      "Epoch 5/5, Loss: 0.1516, Training Accuracy: 0.9387\n"
     ]
    },
    {
     "name": "stderr",
     "output_type": "stream",
     "text": [
      "Validation: 100%|██████████| 14/14 [00:18<00:00,  1.35s/it]\n"
     ]
    },
    {
     "name": "stdout",
     "output_type": "stream",
     "text": [
      "Validation Accuracy after Epoch 5: 0.8857\n"
     ]
    },
    {
     "ename": "NameError",
     "evalue": "name 'evaluate_model' is not defined",
     "output_type": "error",
     "traceback": [
      "\u001b[1;31m---------------------------------------------------------------------------\u001b[0m",
      "\u001b[1;31mNameError\u001b[0m                                 Traceback (most recent call last)",
      "Cell \u001b[1;32mIn[1], line 197\u001b[0m\n\u001b[0;32m    195\u001b[0m train_model(model, train_loader, val_loader, criterion, optimizer, num_epochs, device)\n\u001b[0;32m    196\u001b[0m \u001b[38;5;66;03m# Final evaluation of the model\u001b[39;00m\n\u001b[1;32m--> 197\u001b[0m evaluate_model(model, val_loader, device)\n",
      "\u001b[1;31mNameError\u001b[0m: name 'evaluate_model' is not defined"
     ]
    }
   ],
   "source": [
    "import os\n",
    "import random\n",
    "import torch\n",
    "from torch import nn\n",
    "from torch.utils.data import Dataset, DataLoader, random_split\n",
    "from torchvision import transforms, models\n",
    "from PIL import Image\n",
    "from tqdm import tqdm\n",
    "from sklearn.metrics import accuracy_score, classification_report\n",
    "\n",
    "# Define Dataset Class\n",
    "class VideoFrameDataset(Dataset):\n",
    "    def __init__(self, data_dir, transform=None, sequence_length=10):\n",
    "        \"\"\"\n",
    "        Args:\n",
    "            data_dir (str): Directory containing 'original' and 'manipulated' subdirectories.\n",
    "            transform (callable, optional): Transform to be applied on frames.\n",
    "            sequence_length (int): Number of frames per video sequence.\n",
    "        \"\"\"\n",
    "        self.data_dir = data_dir\n",
    "        self.transform = transform\n",
    "        self.sequence_length = sequence_length\n",
    "        self.classes = {\"original\": 0, \"manipulated\": 1}\n",
    "        self.data = []\n",
    "\n",
    "        for cls, label in self.classes.items():\n",
    "            cls_path = os.path.join(data_dir, cls)\n",
    "            videos = os.listdir(cls_path)\n",
    "            for video in videos:\n",
    "                video_path = os.path.join(cls_path, video)\n",
    "                frames = sorted(os.listdir(video_path))\n",
    "                if len(frames) >= sequence_length:\n",
    "                    self.data.append((video_path, label, frames))\n",
    "\n",
    "    def __len__(self):\n",
    "        return len(self.data)\n",
    "\n",
    "    def __getitem__(self, idx):\n",
    "        video_path, label, frames = self.data[idx]\n",
    "        sequence = []\n",
    "\n",
    "        # Select a fixed number of frames\n",
    "        selected_frames = frames[:self.sequence_length]\n",
    "\n",
    "        for frame in selected_frames:\n",
    "            frame_path = os.path.join(video_path, frame)\n",
    "            image = Image.open(frame_path).convert(\"RGB\")\n",
    "            if self.transform:\n",
    "                image = self.transform(image)\n",
    "            sequence.append(image)\n",
    "\n",
    "        sequence = torch.stack(sequence)\n",
    "        return sequence, label\n",
    "\n",
    "# Data Loading and Splitting\n",
    "def get_data_loaders(data_dir, sequence_length=10, batch_size=8, val_split=0.2):\n",
    "    transform = transforms.Compose([\n",
    "        transforms.Resize((224, 224)),\n",
    "        transforms.ToTensor(),\n",
    "        transforms.Normalize(mean=[0.485, 0.456, 0.406], std=[0.229, 0.224, 0.225])\n",
    "    ])\n",
    "\n",
    "    dataset = VideoFrameDataset(data_dir=data_dir, transform=transform, sequence_length=sequence_length)\n",
    "\n",
    "    val_size = int(len(dataset) * val_split)\n",
    "    train_size = len(dataset) - val_size\n",
    "    train_dataset, val_dataset = random_split(dataset, [train_size, val_size])\n",
    "\n",
    "    train_loader = DataLoader(train_dataset, batch_size=batch_size, shuffle=True)\n",
    "    val_loader = DataLoader(val_dataset, batch_size=batch_size, shuffle=False)\n",
    "\n",
    "    return train_loader, val_loader\n",
    "\n",
    "# Model Definition\n",
    "class EfficientNetGRU(nn.Module):\n",
    "    def __init__(self, sequence_length=10, num_classes=2):\n",
    "        super(EfficientNetGRU, self).__init__()\n",
    "        self.sequence_length = sequence_length\n",
    "\n",
    "        # EfficientNet Backbone\n",
    "        self.efficientnet = models.efficientnet_b0(pretrained=True)\n",
    "        self.efficientnet_features = nn.Sequential(\n",
    "            *list(self.efficientnet.children())[:-2]\n",
    "        )\n",
    "        feature_size = self.efficientnet.classifier[1].in_features\n",
    "\n",
    "        # GRU Layer\n",
    "        self.gru = nn.GRU(feature_size, hidden_size=128, num_layers=2, batch_first=True, bidirectional=True)\n",
    "\n",
    "        # Fully Connected Layer\n",
    "        self.fc = nn.Linear(128 * 2, num_classes)\n",
    "\n",
    "    def forward(self, x):\n",
    "        batch_size, seq_len, c, h, w = x.size()\n",
    "        assert seq_len == self.sequence_length, \"Sequence length mismatch!\"\n",
    "\n",
    "        # Extract features frame-by-frame\n",
    "        features = []\n",
    "        for i in range(seq_len):\n",
    "            frame_features = self.efficientnet_features(x[:, i])\n",
    "            frame_features = frame_features.mean([2, 3])  # Global average pooling\n",
    "            features.append(frame_features)\n",
    "\n",
    "        features = torch.stack(features, dim=1)\n",
    "\n",
    "        # GRU processing\n",
    "        _, hidden = self.gru(features)\n",
    "        hidden = torch.cat([hidden[-2], hidden[-1]], dim=1)\n",
    "\n",
    "        # Classification\n",
    "        output = self.fc(hidden)\n",
    "        return output\n",
    "\n",
    "# Training Loop with Validation Accuracy Calculation and Model Saving\n",
    "def train_model(model, train_loader, val_loader, criterion, optimizer, num_epochs, device, save_dir=\"models\"):\n",
    "    model.to(device)\n",
    "    \n",
    "    best_val_acc = 0.0  # Track best validation accuracy\n",
    "    if not os.path.exists(save_dir):\n",
    "        os.makedirs(save_dir)\n",
    "    \n",
    "    for epoch in range(num_epochs):\n",
    "        # Training phase\n",
    "        model.train()\n",
    "        running_loss = 0.0\n",
    "        y_true_train, y_pred_train = [], []\n",
    "\n",
    "        for sequences, labels in tqdm(train_loader, desc=f\"Epoch {epoch + 1}\"):\n",
    "            sequences, labels = sequences.to(device), labels.to(device)\n",
    "\n",
    "            optimizer.zero_grad()\n",
    "            outputs = model(sequences)\n",
    "            loss = criterion(outputs, labels)\n",
    "            loss.backward()\n",
    "            optimizer.step()\n",
    "\n",
    "            running_loss += loss.item()\n",
    "            y_true_train.extend(labels.cpu().numpy())\n",
    "            y_pred_train.extend(outputs.argmax(dim=1).cpu().numpy())\n",
    "\n",
    "        train_acc = accuracy_score(y_true_train, y_pred_train)\n",
    "        print(f\"Epoch {epoch + 1}/{num_epochs}, Loss: {running_loss / len(train_loader):.4f}, Training Accuracy: {train_acc:.4f}\")\n",
    "\n",
    "        # Validation phase\n",
    "        val_acc = evaluate_accuracy(model, val_loader, device)\n",
    "        print(f\"Validation Accuracy after Epoch {epoch + 1}: {val_acc:.4f}\")\n",
    "\n",
    "        # Save the model if validation accuracy improves\n",
    "        if val_acc > best_val_acc:\n",
    "            best_val_acc = val_acc\n",
    "            model_path = os.path.join(save_dir, f\"best_model_epoch_{epoch + 1}.pth\")\n",
    "            torch.save(model.state_dict(), model_path)\n",
    "            print(f\"Model saved at epoch {epoch + 1} with validation accuracy {val_acc:.4f}\")\n",
    "\n",
    "# Evaluation Accuracy Calculation\n",
    "def evaluate_accuracy(model, val_loader, device):\n",
    "    model.eval()\n",
    "    y_true_val, y_pred_val = [], []\n",
    "\n",
    "    with torch.no_grad():\n",
    "        for sequences, labels in tqdm(val_loader, desc=\"Validation\"):\n",
    "            sequences, labels = sequences.to(device), labels.to(device)\n",
    "            outputs = model(sequences)\n",
    "\n",
    "            y_true_val.extend(labels.cpu().numpy())\n",
    "            y_pred_val.extend(outputs.argmax(dim=1).cpu().numpy())\n",
    "\n",
    "    val_acc = accuracy_score(y_true_val, y_pred_val)\n",
    "    return val_acc\n",
    "\n",
    "# Main Script\n",
    "if __name__ == \"__main__\":\n",
    "    # Hyperparameters\n",
    "    sequence_length = 10\n",
    "    batch_size = 8\n",
    "    num_epochs = 5\n",
    "    learning_rate = 1e-4\n",
    "    val_split = 0.2\n",
    "\n",
    "    # Dataset directory (contains 'original' and 'manipulated' subfolders)\n",
    "    data_dir = \"cropped_faces_big/TRAIN\"\n",
    "\n",
    "    # Device Configuration\n",
    "    device = torch.device(\"cuda\" if torch.cuda.is_available() else \"cpu\")\n",
    "\n",
    "    # Get Data Loaders\n",
    "    train_loader, val_loader = get_data_loaders(data_dir, sequence_length=sequence_length, batch_size=batch_size, val_split=val_split)\n",
    "\n",
    "    # Initialize Model, Criterion, Optimizer\n",
    "    model = EfficientNetGRU(sequence_length=sequence_length)\n",
    "    criterion = nn.CrossEntropyLoss()\n",
    "    optimizer = torch.optim.Adam(model.parameters(), lr=learning_rate)\n",
    "\n",
    "    # Train and Evaluate\n",
    "    train_model(model, train_loader, val_loader, criterion, optimizer, num_epochs, device)\n",
    "    # Final evaluation of the model\n",
    "    evaluate_model(model, val_loader, device)\n"
   ]
  },
  {
   "cell_type": "code",
   "execution_count": 2,
   "id": "c8094e2a-426e-4b3c-9df7-c749a81e56e1",
   "metadata": {},
   "outputs": [
    {
     "name": "stderr",
     "output_type": "stream",
     "text": [
      "Validation: 100%|██████████| 14/14 [00:16<00:00,  1.17s/it]\n"
     ]
    },
    {
     "name": "stdout",
     "output_type": "stream",
     "text": [
      "Classification Report:\n",
      "              precision    recall  f1-score   support\n",
      "\n",
      "    original       0.90      0.87      0.88        52\n",
      " manipulated       0.87      0.91      0.89        53\n",
      "\n",
      "    accuracy                           0.89       105\n",
      "   macro avg       0.89      0.89      0.89       105\n",
      "weighted avg       0.89      0.89      0.89       105\n",
      "\n"
     ]
    },
    {
     "data": {
      "image/png": "[encoded data removed]",
      "text/plain": [
       "<Figure size 640x480 with 2 Axes>"
      ]
     },
     "metadata": {},
     "output_type": "display_data"
    }
   ],
   "source": [
    "import matplotlib.pyplot as plt\n",
    "import numpy as np\n",
    "from sklearn.metrics import confusion_matrix, ConfusionMatrixDisplay\n",
    "\n",
    "def plot_confusion_matrix(y_true, y_pred, class_names):\n",
    "    \"\"\"\n",
    "    Plot confusion matrix using sklearn's ConfusionMatrixDisplay.\n",
    "\n",
    "    Args:\n",
    "        y_true (list or np.array): Ground truth labels.\n",
    "        y_pred (list or np.array): Predicted labels.\n",
    "        class_names (list): List of class names (e.g., [\"original\", \"manipulated\"]).\n",
    "    \"\"\"\n",
    "    cm = confusion_matrix(y_true, y_pred)\n",
    "    disp = ConfusionMatrixDisplay(confusion_matrix=cm, display_labels=class_names)\n",
    "    disp.plot(cmap=plt.cm.Blues, values_format='d')\n",
    "    plt.title(\"Confusion Matrix\")\n",
    "    plt.show()\n",
    "\n",
    "# After evaluating the model\n",
    "def evaluate_with_confusion_matrix(model, val_loader, device, class_names):\n",
    "    \"\"\"\n",
    "    Evaluate the model and generate the confusion matrix.\n",
    "\n",
    "    Args:\n",
    "        model (nn.Module): Trained model.\n",
    "        val_loader (DataLoader): Validation DataLoader.\n",
    "        device (torch.device): Computation device (CPU or GPU).\n",
    "        class_names (list): List of class names.\n",
    "    \"\"\"\n",
    "    model.eval()\n",
    "    y_true, y_pred = [], []\n",
    "\n",
    "    with torch.no_grad():\n",
    "        for sequences, labels in tqdm(val_loader, desc=\"Validation\"):\n",
    "            sequences, labels = sequences.to(device), labels.to(device)\n",
    "            outputs = model(sequences)\n",
    "\n",
    "            y_true.extend(labels.cpu().numpy())\n",
    "            y_pred.extend(outputs.argmax(dim=1).cpu().numpy())\n",
    "\n",
    "    # Print classification report\n",
    "    print(\"Classification Report:\")\n",
    "    print(classification_report(y_true, y_pred, target_names=class_names))\n",
    "\n",
    "    # Plot confusion matrix\n",
    "    plot_confusion_matrix(y_true, y_pred, class_names)\n",
    "\n",
    "# Example Usage\n",
    "if __name__ == \"__main__\":\n",
    "    # Assuming 'model', 'val_loader', and 'device' are already defined\n",
    "    class_names = [\"original\", \"manipulated\"]\n",
    "    evaluate_with_confusion_matrix(model, val_loader, device, class_names)\n"
   ]
  },
  {
   "cell_type": "code",
   "execution_count": 10,
   "id": "79809ed5-e53e-4ad5-9e92-23278a6fda04",
   "metadata": {},
   "outputs": [
    {
     "name": "stderr",
     "output_type": "stream",
     "text": [
      "C:\\temp\\ipykernel_13484\\3600496428.py:12: FutureWarning: You are using `torch.load` with `weights_only=False` (the current default value), which uses the default pickle module implicitly. It is possible to construct malicious pickle data which will execute arbitrary code during unpickling (See https://github.com/pytorch/pytorch/blob/main/SECURITY.md#untrusted-models for more details). In a future release, the default value for `weights_only` will be flipped to `True`. This limits the functions that could be executed during unpickling. Arbitrary objects will no longer be allowed to be loaded via this mode unless they are explicitly allowlisted by the user via `torch.serialization.add_safe_globals`. We recommend you start setting `weights_only=True` for any use case where you don't have full control of the loaded file. Please open an issue on GitHub for any issues related to this experimental feature.\n",
      "  model.load_state_dict(torch.load(model_path, map_location=device))\n",
      "Testing: 100%|██████████| 10/10 [00:11<00:00,  1.17s/it]\n"
     ]
    },
    {
     "data": {
      "image/png": "[encoded data removed]",
      "text/plain": [
       "<Figure size 800x600 with 2 Axes>"
      ]
     },
     "metadata": {},
     "output_type": "display_data"
    },
    {
     "name": "stdout",
     "output_type": "stream",
     "text": [
      "Classification Report:\n",
      "              precision    recall  f1-score   support\n",
      "\n",
      "    Original       0.72      0.89      0.79        35\n",
      " Manipulated       0.87      0.69      0.77        39\n",
      "\n",
      "    accuracy                           0.78        74\n",
      "   macro avg       0.80      0.79      0.78        74\n",
      "weighted avg       0.80      0.78      0.78        74\n",
      "\n"
     ]
    }
   ],
   "source": [
    "import torch\n",
    "from sklearn.metrics import confusion_matrix, classification_report\n",
    "import matplotlib.pyplot as plt\n",
    "import seaborn as sns\n",
    "from tqdm import tqdm\n",
    "from torchvision import transforms\n",
    "from PIL import Image\n",
    "import os\n",
    "\n",
    "# Function to load model weights\n",
    "def load_model(model, model_path, device):\n",
    "    model.load_state_dict(torch.load(model_path, map_location=device))\n",
    "    model.to(device)\n",
    "    model.eval()\n",
    "    return model\n",
    "\n",
    "# Function to evaluate the model on test data\n",
    "def evaluate_model(model, test_loader, device):\n",
    "    model.eval()\n",
    "    y_true, y_pred = [], []\n",
    "    \n",
    "    with torch.no_grad():\n",
    "        for sequences, labels in tqdm(test_loader, desc=\"Testing\"):\n",
    "            sequences, labels = sequences.to(device), labels.to(device)\n",
    "            outputs = model(sequences)\n",
    "            predictions = outputs.argmax(dim=1).cpu().numpy()\n",
    "            y_true.extend(labels.cpu().numpy())\n",
    "            y_pred.extend(predictions)\n",
    "    \n",
    "    return y_true, y_pred\n",
    "\n",
    "# Function to plot the confusion matrix\n",
    "def plot_confusion_matrix(y_true, y_pred, class_names):\n",
    "    cm = confusion_matrix(y_true, y_pred)\n",
    "    plt.figure(figsize=(8, 6))\n",
    "    sns.heatmap(cm, annot=True, fmt=\"d\", cmap=\"Blues\", xticklabels=class_names, yticklabels=class_names)\n",
    "    plt.xlabel(\"Predicted\")\n",
    "    plt.ylabel(\"True\")\n",
    "    plt.title(\"Confusion Matrix\")\n",
    "    plt.show()\n",
    "\n",
    "# Test Dataset Class\n",
    "class TestVideoFrameDataset(VideoFrameDataset):\n",
    "    def __init__(self, data_dir, transform=None, sequence_length=10):\n",
    "        super().__init__(data_dir, transform, sequence_length)\n",
    "\n",
    "# Main Script\n",
    "if __name__ == \"__main__\":\n",
    "    # Paths and Hyperparameters\n",
    "    test_data_dir = \"cropped_faces_big/TEST\"\n",
    "    model_path = \"models/best_model_epoch_3.pth\"  # Adjust path to your model\n",
    "    sequence_length = 10\n",
    "    batch_size = 8\n",
    "\n",
    "    # Device Configuration\n",
    "    device = torch.device(\"cuda\" if torch.cuda.is_available() else \"cpu\")\n",
    "\n",
    "    # Data Transform for Test Dataset\n",
    "    transform = transforms.Compose([\n",
    "        transforms.Resize((224, 224)),\n",
    "        transforms.ToTensor(),\n",
    "        transforms.Normalize(mean=[0.485, 0.456, 0.406], std=[0.229, 0.224, 0.225])\n",
    "    ])\n",
    "\n",
    "    # Test Dataset and Loader\n",
    "    test_dataset = TestVideoFrameDataset(data_dir=test_data_dir, transform=transform, sequence_length=sequence_length)\n",
    "    test_loader = DataLoader(test_dataset, batch_size=batch_size, shuffle=False)\n",
    "\n",
    "    # Initialize Model and Load Weights\n",
    "    model = EfficientNetGRU(sequence_length=sequence_length)\n",
    "    model = load_model(model, model_path, device)\n",
    "\n",
    "    # Evaluate Model on Test Data\n",
    "    y_true, y_pred = evaluate_model(model, test_loader, device)\n",
    "\n",
    "    # Plot Confusion Matrix\n",
    "    class_names = [\"Original\", \"Manipulated\"]\n",
    "    plot_confusion_matrix(y_true, y_pred, class_names)\n",
    "\n",
    "    # Print Classification Report\n",
    "    print(\"Classification Report:\")\n",
    "    print(classification_report(y_true, y_pred, target_names=class_names))\n"
   ]
  },
  {
   "cell_type": "code",
   "execution_count": 4,
   "id": "9811d864-aca1-4a1e-bda9-c996e72a96ff",
   "metadata": {
    "scrolled": true
   },
   "outputs": [
    {
     "name": "stderr",
     "output_type": "stream",
     "text": [
      "C:\\Enviroment\\anaconda3\\Lib\\site-packages\\torchvision\\models\\_utils.py:208: UserWarning: The parameter 'pretrained' is deprecated since 0.13 and may be removed in the future, please use 'weights' instead.\n",
      "  warnings.warn(\n",
      "C:\\Enviroment\\anaconda3\\Lib\\site-packages\\torchvision\\models\\_utils.py:223: UserWarning: Arguments other than a weight enum or `None` for 'weights' are deprecated since 0.13 and may be removed in the future. The current behavior is equivalent to passing `weights=EfficientNet_B0_Weights.IMAGENET1K_V1`. You can also use `weights=EfficientNet_B0_Weights.DEFAULT` to get the most up-to-date weights.\n",
      "  warnings.warn(msg)\n",
      "C:\\temp\\ipykernel_13484\\2470730644.py:95: FutureWarning: You are using `torch.load` with `weights_only=False` (the current default value), which uses the default pickle module implicitly. It is possible to construct malicious pickle data which will execute arbitrary code during unpickling (See https://github.com/pytorch/pytorch/blob/main/SECURITY.md#untrusted-models for more details). In a future release, the default value for `weights_only` will be flipped to `True`. This limits the functions that could be executed during unpickling. Arbitrary objects will no longer be allowed to be loaded via this mode unless they are explicitly allowlisted by the user via `torch.serialization.add_safe_globals`. We recommend you start setting `weights_only=True` for any use case where you don't have full control of the loaded file. Please open an issue on GitHub for any issues related to this experimental feature.\n",
      "  model.load_state_dict(torch.load(model_path, map_location=device))\n",
      "Predicting: 100%|██████████| 12/12 [00:14<00:00,  1.18s/it]"
     ]
    },
    {
     "name": "stdout",
     "output_type": "stream",
     "text": [
      "Video: cropped_faces_big/TEST\\00000, Prediction: Original\n",
      "Video: cropped_faces_big/TEST\\00004, Prediction: Original\n",
      "Video: cropped_faces_big/TEST\\00007, Prediction: Original\n",
      "Video: cropped_faces_big/TEST\\01_02__meeting_serious__YVGY8LOK, Prediction: Manipulated\n",
      "Video: cropped_faces_big/TEST\\01_11__talking_against_wall__UQ0BOBNO, Prediction: Manipulated\n",
      "Video: cropped_faces_big/TEST\\01_15__meeting_serious__02HILKYO, Prediction: Manipulated\n",
      "Video: cropped_faces_big/TEST\\01_15__outside_talking_still_laughing__02HILKYO, Prediction: Manipulated\n",
      "Video: cropped_faces_big/TEST\\01_20__hugging_happy__6UBMLXK3, Prediction: Manipulated\n",
      "Video: cropped_faces_big/TEST\\01_20__talking_angry_couch__6UBMLXK3, Prediction: Manipulated\n",
      "Video: cropped_faces_big/TEST\\01__kitchen_pan, Prediction: Original\n",
      "Video: cropped_faces_big/TEST\\01__meeting_serious, Prediction: Original\n",
      "Video: cropped_faces_big/TEST\\01__outside_talking_pan_laughing, Prediction: Original\n",
      "Video: cropped_faces_big/TEST\\01__podium_speech_happy, Prediction: Original\n",
      "Video: cropped_faces_big/TEST\\01__talking_angry_couch, Prediction: Original\n",
      "Video: cropped_faces_big/TEST\\01__walking_and_outside_surprised, Prediction: Original\n",
      "Video: cropped_faces_big/TEST\\01__walking_down_indoor_hall_disgust, Prediction: Original\n",
      "Video: cropped_faces_big/TEST\\02_07__kitchen_still__1ZE4HC06, Prediction: Manipulated\n",
      "Video: cropped_faces_big/TEST\\02_07__talking_against_wall__O4SXNLRL, Prediction: Manipulated\n",
      "Video: cropped_faces_big/TEST\\02_07__walk_down_hall_angry__U7DEOZNV, Prediction: Manipulated\n",
      "Video: cropped_faces_big/TEST\\02_09__kitchen_pan__HIH8YA82, Prediction: Manipulated\n",
      "Video: cropped_faces_big/TEST\\02_09__outside_talking_pan_laughing__6KUOFMZW, Prediction: Manipulated\n",
      "Video: cropped_faces_big/TEST\\02_09__walking_down_street_outside_angry__6KUOFMZW, Prediction: Original\n",
      "Video: cropped_faces_big/TEST\\02_13__walking_down_street_outside_angry__2YSYT2N3, Prediction: Original\n",
      "Video: cropped_faces_big/TEST\\02_15__exit_phone_room__HTG660F8, Prediction: Original\n",
      "Video: cropped_faces_big/TEST\\02_15__kitchen_still__I8G2LWD1, Prediction: Manipulated\n",
      "Video: cropped_faces_big/TEST\\02_25__outside_talking_still_laughing__Z7FQ69VP, Prediction: Manipulated\n",
      "Video: cropped_faces_big/TEST\\02__exit_phone_room, Prediction: Original\n",
      "Video: cropped_faces_big/TEST\\02__kitchen_pan, Prediction: Original\n",
      "Video: cropped_faces_big/TEST\\02__meeting_serious, Prediction: Original\n",
      "Video: cropped_faces_big/TEST\\02__walking_and_outside_surprised, Prediction: Original\n",
      "Video: cropped_faces_big/TEST\\03_01__podium_speech_happy__480LQD1C, Prediction: Manipulated\n",
      "Video: cropped_faces_big/TEST\\03_04__kitchen_pan__T04P6ELC, Prediction: Original\n",
      "Video: cropped_faces_big/TEST\\03_06__kitchen_pan__1IXGY2FK, Prediction: Manipulated\n",
      "Video: cropped_faces_big/TEST\\03_07__hugging_happy__WPT3Z2KN, Prediction: Manipulated\n",
      "Video: cropped_faces_big/TEST\\03_07__talking_against_wall__WPT3Z2KN, Prediction: Manipulated\n",
      "Video: cropped_faces_big/TEST\\03_07__talking_angry_couch__7NGMD8FT, Prediction: Original\n",
      "Video: cropped_faces_big/TEST\\03_09__walk_down_hall_angry__8DTEGQ54, Prediction: Manipulated\n",
      "Video: cropped_faces_big/TEST\\03_11__exit_phone_room__P08VGHTA, Prediction: Manipulated\n",
      "Video: cropped_faces_big/TEST\\03_13__kitchen_still__T3MZOI8X, Prediction: Original\n",
      "Video: cropped_faces_big/TEST\\03_13__meeting_serious__T3MZOI8X, Prediction: Original\n",
      "Video: cropped_faces_big/TEST\\03_14__kitchen_pan__38OVCK3X, Prediction: Original\n",
      "Video: cropped_faces_big/TEST\\03_15__exit_phone_room__OY4I7ZU8, Prediction: Original\n",
      "Video: cropped_faces_big/TEST\\03_15__kitchen_pan__DNUJD8M2, Prediction: Manipulated\n",
      "Video: cropped_faces_big/TEST\\03_26__talking_against_wall__WBSXBL82, Prediction: Manipulated\n",
      "Video: cropped_faces_big/TEST\\03__exit_phone_room, Prediction: Original\n",
      "Video: cropped_faces_big/TEST\\03__kitchen_still, Prediction: Original\n",
      "Video: cropped_faces_big/TEST\\03__outside_talking_still_laughing, Prediction: Original\n",
      "Video: cropped_faces_big/TEST\\03__talking_angry_couch, Prediction: Original\n",
      "Video: cropped_faces_big/TEST\\03__walking_down_indoor_hall_disgust, Prediction: Original\n",
      "Video: cropped_faces_big/TEST\\03__walking_outside_cafe_disgusted, Prediction: Original\n",
      "Video: cropped_faces_big/TEST\\04_11__exit_phone_room__60BU0X0I, Prediction: Manipulated\n",
      "Video: cropped_faces_big/TEST\\04_15__kitchen_pan__46TJ9IOJ, Prediction: Original\n",
      "Video: cropped_faces_big/TEST\\04__kitchen_pan, Prediction: Original\n",
      "Video: cropped_faces_big/TEST\\04__kitchen_still, Prediction: Original\n",
      "Video: cropped_faces_big/TEST\\04__outside_talking_pan_laughing, Prediction: Original\n",
      "Video: cropped_faces_big/TEST\\04__outside_talking_still_laughing, Prediction: Original\n",
      "Video: cropped_faces_big/TEST\\04__talking_angry_couch, Prediction: Original\n",
      "Video: cropped_faces_big/TEST\\04__walking_outside_cafe_disgusted, Prediction: Original\n",
      "Video: cropped_faces_big/TEST\\05_08__outside_talking_pan_laughing__FBICSP2C, Prediction: Manipulated\n",
      "Video: cropped_faces_big/TEST\\05_16__outside_talking_pan_laughing__053HPS1G, Prediction: Manipulated\n",
      "Video: cropped_faces_big/TEST\\05__outside_talking_pan_laughing, Prediction: Original\n",
      "Video: cropped_faces_big/TEST\\05__outside_talking_still_laughing, Prediction: Manipulated\n",
      "Video: cropped_faces_big/TEST\\05__talking_against_wall, Prediction: Original\n",
      "Video: cropped_faces_big/TEST\\05__walking_down_street_outside_angry, Prediction: Original\n",
      "Video: cropped_faces_big/TEST\\05__walking_outside_cafe_disgusted, Prediction: Original\n",
      "Video: cropped_faces_big/TEST\\06_11__hugging_happy__C8C4FW99, Prediction: Manipulated\n",
      "Video: cropped_faces_big/TEST\\06_18__walking_outside_cafe_disgusted__OWJY9LQU, Prediction: Manipulated\n",
      "Video: cropped_faces_big/TEST\\06_25__walking_and_outside_surprised__MI9BDQ7M, Prediction: Manipulated\n",
      "Video: cropped_faces_big/TEST\\06_26__talking_against_wall__L5BVR5L9, Prediction: Manipulated\n",
      "Video: cropped_faces_big/TEST\\06__outside_talking_still_laughing, Prediction: Original\n",
      "Video: cropped_faces_big/TEST\\07_09__walking_outside_cafe_disgusted__N9CWME71, Prediction: Original\n",
      "Video: cropped_faces_big/TEST\\07_12__walking_outside_cafe_disgusted__KAG65PEE, Prediction: Manipulated\n",
      "Video: cropped_faces_big/TEST\\07_15__walk_down_hall_angry__NYPO7U50, Prediction: Manipulated\n",
      "Video: cropped_faces_big/TEST\\07__kitchen_pan, Prediction: Original\n",
      "Video: cropped_faces_big/TEST\\07__kitchen_still, Prediction: Original\n",
      "Video: cropped_faces_big/TEST\\07__outside_talking_still_laughing, Prediction: Manipulated\n",
      "Video: cropped_faces_big/TEST\\07__talking_angry_couch, Prediction: Original\n",
      "Video: cropped_faces_big/TEST\\08_05__exit_phone_room__BGI70HJ5, Prediction: Manipulated\n",
      "Video: cropped_faces_big/TEST\\08_17__kitchen_pan__JZYRLJ8T, Prediction: Manipulated\n",
      "Video: cropped_faces_big/TEST\\08__kitchen_still, Prediction: Original\n",
      "Video: cropped_faces_big/TEST\\08__walking_outside_cafe_disgusted, Prediction: Original\n",
      "Video: cropped_faces_big/TEST\\09_01__talking_angry_couch__6TSGVLHA, Prediction: Manipulated\n",
      "Video: cropped_faces_big/TEST\\09_02__walk_down_hall_angry__6KUOFMZW, Prediction: Manipulated\n",
      "Video: cropped_faces_big/TEST\\09_13__outside_talking_pan_laughing__TG55WJXX, Prediction: Manipulated\n",
      "Video: cropped_faces_big/TEST\\09_18__kitchen_pan__3VP8836C, Prediction: Manipulated\n",
      "Video: cropped_faces_big/TEST\\09_26__walking_down_street_outside_angry__QSE5A0GF, Prediction: Original\n",
      "Video: cropped_faces_big/TEST\\09__exit_phone_room, Prediction: Original\n",
      "Video: cropped_faces_big/TEST\\09__outside_talking_still_laughing, Prediction: Original\n",
      "Video: cropped_faces_big/TEST\\09__talking_against_wall, Prediction: Original\n",
      "Video: cropped_faces_big/TEST\\10__exit_phone_room, Prediction: Original\n",
      "Video: cropped_faces_big/TEST\\10__outside_talking_still_laughing, Prediction: Manipulated\n",
      "Video: cropped_faces_big/TEST\\10__podium_speech_happy, Prediction: Manipulated\n"
     ]
    },
    {
     "name": "stderr",
     "output_type": "stream",
     "text": [
      "\n"
     ]
    }
   ],
   "source": [
    "import os\n",
    "import torch\n",
    "from torch import nn\n",
    "from torch.utils.data import Dataset, DataLoader\n",
    "from torchvision import transforms, models\n",
    "from PIL import Image\n",
    "from tqdm import tqdm\n",
    "import matplotlib.pyplot as plt\n",
    "import seaborn as sns\n",
    "from sklearn.metrics import classification_report, confusion_matrix\n",
    "\n",
    "# Dataset Class for Test Data\n",
    "class TestDataset(Dataset):\n",
    "    def __init__(self, data_dir, transform=None, sequence_length=10):\n",
    "        \"\"\"\n",
    "        Args:\n",
    "            data_dir (str): Directory containing folders of video frames.\n",
    "            transform (callable, optional): Transform to be applied on frames.\n",
    "            sequence_length (int): Number of frames per video sequence.\n",
    "        \"\"\"\n",
    "        self.data_dir = data_dir\n",
    "        self.transform = transform\n",
    "        self.sequence_length = sequence_length\n",
    "        self.data = []\n",
    "\n",
    "        # Load video frame directories\n",
    "        videos = os.listdir(data_dir)\n",
    "        for video in videos:\n",
    "            video_path = os.path.join(data_dir, video)\n",
    "            frames = sorted(os.listdir(video_path))\n",
    "            if len(frames) >= sequence_length:\n",
    "                self.data.append((video_path, frames))\n",
    "\n",
    "    def __len__(self):\n",
    "        return len(self.data)\n",
    "\n",
    "    def __getitem__(self, idx):\n",
    "        video_path, frames = self.data[idx]\n",
    "        sequence = []\n",
    "\n",
    "        # Select a fixed number of frames\n",
    "        selected_frames = frames[:self.sequence_length]\n",
    "        for frame in selected_frames:\n",
    "            frame_path = os.path.join(video_path, frame)\n",
    "            image = Image.open(frame_path).convert(\"RGB\")\n",
    "            if self.transform:\n",
    "                image = self.transform(image)\n",
    "            sequence.append(image)\n",
    "\n",
    "        sequence = torch.stack(sequence)\n",
    "        return sequence, video_path  # Returning video path for identification\n",
    "\n",
    "# Model Definition\n",
    "class EfficientNetGRU(nn.Module):\n",
    "    def __init__(self, sequence_length=10, num_classes=2):\n",
    "        super(EfficientNetGRU, self).__init__()\n",
    "        self.sequence_length = sequence_length\n",
    "\n",
    "        # EfficientNet Backbone\n",
    "        self.efficientnet = models.efficientnet_b0(pretrained=True)\n",
    "        self.efficientnet_features = nn.Sequential(\n",
    "            *list(self.efficientnet.children())[:-2]\n",
    "        )\n",
    "        feature_size = self.efficientnet.classifier[1].in_features\n",
    "\n",
    "        # GRU Layer\n",
    "        self.gru = nn.GRU(feature_size, hidden_size=128, num_layers=2, batch_first=True, bidirectional=True)\n",
    "\n",
    "        # Fully Connected Layer\n",
    "        self.fc = nn.Linear(128 * 2, num_classes)\n",
    "\n",
    "    def forward(self, x):\n",
    "        batch_size, seq_len, c, h, w = x.size()\n",
    "        assert seq_len == self.sequence_length, \"Sequence length mismatch!\"\n",
    "\n",
    "        # Extract features frame-by-frame\n",
    "        features = []\n",
    "        for i in range(seq_len):\n",
    "            frame_features = self.efficientnet_features(x[:, i])\n",
    "            frame_features = frame_features.mean([2, 3])  # Global average pooling\n",
    "            features.append(frame_features)\n",
    "\n",
    "        features = torch.stack(features, dim=1)\n",
    "\n",
    "        # GRU processing\n",
    "        _, hidden = self.gru(features)\n",
    "        hidden = torch.cat([hidden[-2], hidden[-1]], dim=1)\n",
    "\n",
    "        # Classification\n",
    "        output = self.fc(hidden)\n",
    "        return output\n",
    "\n",
    "# Load Model\n",
    "def load_model(model, model_path, device):\n",
    "    model.load_state_dict(torch.load(model_path, map_location=device))\n",
    "    model.to(device)\n",
    "    model.eval()\n",
    "    return model\n",
    "\n",
    "# Predict on Test Data\n",
    "def predict_on_test(model, test_loader, device, class_names):\n",
    "    model.eval()\n",
    "    predictions = {}\n",
    "\n",
    "    with torch.no_grad():\n",
    "        for sequences, video_paths in tqdm(test_loader, desc=\"Predicting\"):\n",
    "            sequences = sequences.to(device)\n",
    "            outputs = model(sequences)\n",
    "            pred_labels = outputs.argmax(dim=1).cpu().numpy()\n",
    "\n",
    "            for video_path, pred_label in zip(video_paths, pred_labels):\n",
    "                predictions[video_path] = class_names[pred_label]\n",
    "\n",
    "    return predictions\n",
    "\n",
    "# Plot Confusion Matrix (Optional if labels are available)\n",
    "def plot_confusion_matrix(y_true, y_pred, class_names):\n",
    "    cm = confusion_matrix(y_true, y_pred)\n",
    "    plt.figure(figsize=(8, 6))\n",
    "    sns.heatmap(cm, annot=True, fmt=\"d\", cmap=\"Blues\", xticklabels=class_names, yticklabels=class_names)\n",
    "    plt.xlabel(\"Predicted\")\n",
    "    plt.ylabel(\"True\")\n",
    "    plt.title(\"Confusion Matrix\")\n",
    "    plt.show()\n",
    "\n",
    "# Main Script\n",
    "if __name__ == \"__main__\":\n",
    "    # Test Dataset Directory\n",
    "    test_data_dir = \"cropped_faces_big/TEST\"\n",
    "\n",
    "    # Sequence length and batch size\n",
    "    sequence_length = 10\n",
    "    batch_size = 8\n",
    "\n",
    "    # Model path\n",
    "    model_path = \"models/best_model_epoch_3.pth\"  # Update with your saved model path\n",
    "\n",
    "    # Device configuration\n",
    "    device = torch.device(\"cuda\" if torch.cuda.is_available() else \"cpu\")\n",
    "\n",
    "    # Class names\n",
    "    class_names = [\"Original\", \"Manipulated\"]\n",
    "\n",
    "    # Test Data Loader\n",
    "    transform = transforms.Compose([\n",
    "        transforms.Resize((224, 224)),\n",
    "        transforms.ToTensor(),\n",
    "        transforms.Normalize(mean=[0.485, 0.456, 0.406], std=[0.229, 0.224, 0.225])\n",
    "    ])\n",
    "    test_dataset = TestDataset(data_dir=test_data_dir, transform=transform, sequence_length=sequence_length)\n",
    "    test_loader = DataLoader(test_dataset, batch_size=batch_size, shuffle=False)\n",
    "\n",
    "    # Load the model\n",
    "    model = EfficientNetGRU(sequence_length=sequence_length)\n",
    "    model = load_model(model, model_path, device)\n",
    "\n",
    "    # Predict on test data\n",
    "    predictions = predict_on_test(model, test_loader, device, class_names)\n",
    "\n",
    "    # Display predictions\n",
    "    for video_path, label in predictions.items():\n",
    "        print(f\"Video: {video_path}, Prediction: {label}\")\n"
   ]
  },
  {
   "cell_type": "code",
   "execution_count": 3,
   "id": "51010fd2-41b5-4255-9b24-c5582f17c3cc",
   "metadata": {},
   "outputs": [
    {
     "name": "stderr",
     "output_type": "stream",
     "text": [
      "C:\\Enviroment\\anaconda3\\Lib\\site-packages\\torchvision\\models\\_utils.py:208: UserWarning: The parameter 'pretrained' is deprecated since 0.13 and may be removed in the future, please use 'weights' instead.\n",
      "  warnings.warn(\n",
      "C:\\Enviroment\\anaconda3\\Lib\\site-packages\\torchvision\\models\\_utils.py:223: UserWarning: Arguments other than a weight enum or `None` for 'weights' are deprecated since 0.13 and may be removed in the future. The current behavior is equivalent to passing `weights=EfficientNet_B0_Weights.IMAGENET1K_V1`. You can also use `weights=EfficientNet_B0_Weights.DEFAULT` to get the most up-to-date weights.\n",
      "  warnings.warn(msg)\n",
      "Epoch 1:   0%|          | 1/13999 [02:20<545:47:37, 140.37s/it]\n",
      "\n",
      "KeyboardInterrupt\n",
      "\n"
     ]
    }
   ],
   "source": [
    "import os\n",
    "import random\n",
    "import torch\n",
    "from torch import nn\n",
    "from torch.utils.data import Dataset, DataLoader, random_split\n",
    "from torchvision import transforms, models\n",
    "from PIL import Image\n",
    "from tqdm import tqdm\n",
    "from sklearn.metrics import accuracy_score, classification_report\n",
    "\n",
    "# Define Dataset Class\n",
    "class VideoFrameDataset(Dataset):\n",
    "    def __init__(self, data_dir, transform=None, sequence_length=10):\n",
    "        \"\"\"\n",
    "        Args:\n",
    "            data_dir (str): Directory containing 'real' and 'fake' subdirectories with images.\n",
    "            transform (callable, optional): Transform to be applied on frames.\n",
    "            sequence_length (int): Number of frames per video sequence.\n",
    "        \"\"\"\n",
    "        self.data_dir = data_dir\n",
    "        self.transform = transform\n",
    "        self.sequence_length = sequence_length\n",
    "        self.classes = {\"real\": 0, \"fake\": 1}\n",
    "        self.data = []\n",
    "\n",
    "        for cls, label in self.classes.items():\n",
    "            cls_path = os.path.join(data_dir, cls)\n",
    "            images = sorted(os.listdir(cls_path))\n",
    "            # Group images into sequences\n",
    "            for i in range(0, len(images) - sequence_length + 1):\n",
    "                sequence = images[i:i + sequence_length]\n",
    "                self.data.append((cls_path, label, sequence))\n",
    "\n",
    "    def __len__(self):\n",
    "        return len(self.data)\n",
    "\n",
    "    def __getitem__(self, idx):\n",
    "        cls_path, label, frames = self.data[idx]\n",
    "        sequence = []\n",
    "\n",
    "        for frame in frames:\n",
    "            frame_path = os.path.join(cls_path, frame)\n",
    "            image = Image.open(frame_path).convert(\"RGB\")\n",
    "            if self.transform:\n",
    "                image = self.transform(image)\n",
    "            sequence.append(image)\n",
    "\n",
    "        sequence = torch.stack(sequence)\n",
    "        return sequence, label\n",
    "\n",
    "\n",
    "# Data Loading and Splitting\n",
    "def get_data_loaders(data_dir, sequence_length=10, batch_size=8, val_split=0.2):\n",
    "    transform = transforms.Compose([\n",
    "        transforms.Resize((224, 224)),\n",
    "        transforms.ToTensor(),\n",
    "        transforms.Normalize(mean=[0.485, 0.456, 0.406], std=[0.229, 0.224, 0.225])\n",
    "    ])\n",
    "\n",
    "    dataset = VideoFrameDataset(data_dir=data_dir, transform=transform, sequence_length=sequence_length)\n",
    "\n",
    "    val_size = int(len(dataset) * val_split)\n",
    "    train_size = len(dataset) - val_size\n",
    "    train_dataset, val_dataset = random_split(dataset, [train_size, val_size])\n",
    "\n",
    "    train_loader = DataLoader(train_dataset, batch_size=batch_size, shuffle=True)\n",
    "    val_loader = DataLoader(val_dataset, batch_size=batch_size, shuffle=False)\n",
    "\n",
    "    return train_loader, val_loader\n",
    "\n",
    "# Model Definition\n",
    "class EfficientNetGRU(nn.Module):\n",
    "    def __init__(self, sequence_length=10, num_classes=2):\n",
    "        super(EfficientNetGRU, self).__init__()\n",
    "        self.sequence_length = sequence_length\n",
    "\n",
    "        # EfficientNet Backbone\n",
    "        self.efficientnet = models.efficientnet_b0(pretrained=True)\n",
    "        self.efficientnet_features = nn.Sequential(\n",
    "            *list(self.efficientnet.children())[:-2]\n",
    "        )\n",
    "        feature_size = self.efficientnet.classifier[1].in_features\n",
    "\n",
    "        # GRU Layer\n",
    "        self.gru = nn.GRU(feature_size, hidden_size=128, num_layers=2, batch_first=True, bidirectional=True)\n",
    "\n",
    "        # Fully Connected Layer\n",
    "        self.fc = nn.Linear(128 * 2, num_classes)\n",
    "\n",
    "    def forward(self, x):\n",
    "        batch_size, seq_len, c, h, w = x.size()\n",
    "        assert seq_len == self.sequence_length, \"Sequence length mismatch!\"\n",
    "\n",
    "        # Extract features frame-by-frame\n",
    "        features = []\n",
    "        for i in range(seq_len):\n",
    "            frame_features = self.efficientnet_features(x[:, i])\n",
    "            frame_features = frame_features.mean([2, 3])  # Global average pooling\n",
    "            features.append(frame_features)\n",
    "\n",
    "        features = torch.stack(features, dim=1)\n",
    "\n",
    "        # GRU processing\n",
    "        _, hidden = self.gru(features)\n",
    "        hidden = torch.cat([hidden[-2], hidden[-1]], dim=1)\n",
    "\n",
    "        # Classification\n",
    "        output = self.fc(hidden)\n",
    "        return output\n",
    "\n",
    "# Training Loop\n",
    "def train_model(model, train_loader, criterion, optimizer, num_epochs, device):\n",
    "    model.to(device)\n",
    "    for epoch in range(num_epochs):\n",
    "        model.train()\n",
    "        running_loss = 0.0\n",
    "        y_true, y_pred = [], []\n",
    "\n",
    "        for sequences, labels in tqdm(train_loader, desc=f\"Epoch {epoch + 1}\"):\n",
    "            sequences, labels = sequences.to(device), labels.to(device)\n",
    "\n",
    "            optimizer.zero_grad()\n",
    "            outputs = model(sequences)\n",
    "            loss = criterion(outputs, labels)\n",
    "            loss.backward()\n",
    "            optimizer.step()\n",
    "\n",
    "            running_loss += loss.item()\n",
    "            y_true.extend(labels.cpu().numpy())\n",
    "            y_pred.extend(outputs.argmax(dim=1).cpu().numpy())\n",
    "\n",
    "        train_acc = accuracy_score(y_true, y_pred)\n",
    "        print(f\"Epoch {epoch + 1}/{num_epochs}, Loss: {running_loss / len(train_loader):.4f}, Accuracy: {train_acc:.4f}\")\n",
    "\n",
    "# Evaluation Loop\n",
    "def evaluate_model(model, val_loader, device):\n",
    "    model.eval()\n",
    "    y_true, y_pred = [], []\n",
    "\n",
    "    with torch.no_grad():\n",
    "        for sequences, labels in tqdm(val_loader, desc=\"Validation\"):\n",
    "            sequences, labels = sequences.to(device), labels.to(device)\n",
    "            outputs = model(sequences)\n",
    "\n",
    "            y_true.extend(labels.cpu().numpy())\n",
    "            y_pred.extend(outputs.argmax(dim=1).cpu().numpy())\n",
    "\n",
    "    print(\"Classification Report:\")\n",
    "    print(classification_report(y_true, y_pred, target_names=[\"real\", \"fake\"]))\n",
    "\n",
    "# Main Script\n",
    "if __name__ == \"__main__\":\n",
    "    # Hyperparameters\n",
    "    sequence_length = 10\n",
    "    batch_size = 8\n",
    "    num_epochs = 5\n",
    "    learning_rate = 1e-4\n",
    "    val_split = 0.2\n",
    "\n",
    "    # Dataset directory (contains 'original' and 'manipulated' subfolders)\n",
    "    data_dir = \"Dataset/Train\"\n",
    "\n",
    "    # Device Configuration\n",
    "    device = torch.device(\"cuda\" if torch.cuda.is_available() else \"cpu\")\n",
    "\n",
    "    # Get Data Loaders\n",
    "    train_loader, val_loader = get_data_loaders(data_dir, sequence_length=sequence_length, batch_size=batch_size, val_split=val_split)\n",
    "\n",
    "    # Initialize Model, Criterion, Optimizer\n",
    "    model = EfficientNetGRU(sequence_length=sequence_length)\n",
    "    criterion = nn.CrossEntropyLoss()\n",
    "    optimizer = torch.optim.Adam(model.parameters(), lr=learning_rate)\n",
    "\n",
    "    # Train and Evaluate\n",
    "    train_model(model, train_loader, criterion, optimizer, num_epochs, device)\n",
    "    evaluate_model(model, val_loader, device)\n"
   ]
  },
  {
   "cell_type": "code",
   "execution_count": null,
   "id": "bbf310e2-c26b-4d54-851a-a1837ac3ddda",
   "metadata": {},
   "outputs": [],
   "source": []
  }
 ],
 "metadata": {
  "kernelspec": {
   "display_name": "Python 3 (ipykernel)",
   "language": "python",
   "name": "python3"
  },
  "language_info": {
   "codemirror_mode": {
    "name": "ipython",
    "version": 3
   },
   "file_extension": ".py",
   "mimetype": "text/x-python",
   "name": "python",
   "nbconvert_exporter": "python",
   "pygments_lexer": "ipython3",
   "version": "3.12.7"
  }
 },
 "nbformat": 4,
 "nbformat_minor": 5
}
